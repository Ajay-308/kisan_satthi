{
  "nbformat": 4,
  "nbformat_minor": 0,
  "metadata": {
    "colab": {
      "provenance": []
    },
    "kernelspec": {
      "name": "python3",
      "display_name": "Python 3"
    },
    "language_info": {
      "name": "python"
    }
  },
  "cells": [
    {
      "cell_type": "code",
      "execution_count": 170,
      "metadata": {
        "id": "Q4BGBkyqNomT"
      },
      "outputs": [],
      "source": [
        "#importing all the libraries\n",
        "import numpy as np\n",
        "import pandas as pd\n",
        "import matplotlib.pyplot as plt\n",
        "import seaborn as sns\n",
        "\n",
        "from sklearn.preprocessing import StandardScaler\n",
        "from imblearn.over_sampling import SMOTE\n",
        "\n",
        "from sklearn.tree import DecisionTreeClassifier\n",
        "from sklearn.ensemble import RandomForestClassifier\n",
        "from sklearn.metrics import accuracy_score\n",
        "from sklearn.model_selection import train_test_split\n",
        "from sklearn.linear_model import LogisticRegression\n",
        "from sklearn.naive_bayes import GaussianNB\n",
        "from sklearn.svm import SVC\n",
        "from sklearn.neighbors import KNeighborsClassifier\n",
        "\n",
        "from sklearn.model_selection import GridSearchCV\n",
        "\n",
        "import tensorflow as tf\n",
        "from tensorflow.keras.models import Sequential\n",
        "from tensorflow.keras.layers import Dense, Dropout"
      ]
    },
    {
      "cell_type": "code",
      "source": [
        "import scipy.io"
      ],
      "metadata": {
        "id": "_jn-oWQxn5Pz"
      },
      "execution_count": 171,
      "outputs": []
    },
    {
      "cell_type": "code",
      "source": [],
      "metadata": {
        "id": "C6Z_E9ImoI2b"
      },
      "execution_count": 171,
      "outputs": []
    },
    {
      "cell_type": "code",
      "source": [
        "data = pd.read_csv(r\"/content/drive/MyDrive/FAOSTAT_data_en_8-25-2023 (1).csv\", encoding='latin-1')\n",
        "data.head()"
      ],
      "metadata": {
        "colab": {
          "base_uri": "https://localhost:8080/",
          "height": 434
        },
        "id": "6heQRaFrYadt",
        "outputId": "7c990119-6d49-48f9-e208-72ecf3251696"
      },
      "execution_count": 172,
      "outputs": [
        {
          "output_type": "execute_result",
          "data": {
            "text/plain": [
              "  Ã¯Â»Â¿Domain Code                         Domain  Area Code (M49)   Area  \\\n",
              "0                FO  Forestry Production and Trade              356  India   \n",
              "1                FO  Forestry Production and Trade              356  India   \n",
              "2                FO  Forestry Production and Trade              356  India   \n",
              "3                FO  Forestry Production and Trade              356  India   \n",
              "4                FO  Forestry Production and Trade              356  India   \n",
              "\n",
              "   Element Code     Element  Item Code                   Item  Year Code  \\\n",
              "0          5516  Production       1627  Wood fuel, coniferous       1961   \n",
              "1          5516  Production       1627  Wood fuel, coniferous       1962   \n",
              "2          5516  Production       1627  Wood fuel, coniferous       1963   \n",
              "3          5516  Production       1627  Wood fuel, coniferous       1964   \n",
              "4          5516  Production       1627  Wood fuel, coniferous       1965   \n",
              "\n",
              "   Year Unit      Value Flag Flag Description  \n",
              "0  1961   m3  4653328.0    I    Imputed value  \n",
              "1  1962   m3  4753509.0    I    Imputed value  \n",
              "2  1963   m3  4855781.0    I    Imputed value  \n",
              "3  1964   m3  4960288.0    I    Imputed value  \n",
              "4  1965   m3  5066998.0    I    Imputed value  "
            ],
            "text/html": [
              "\n",
              "  <div id=\"df-d2ac5bab-0f3c-4e81-9dde-95b4da01ed00\" class=\"colab-df-container\">\n",
              "    <div>\n",
              "<style scoped>\n",
              "    .dataframe tbody tr th:only-of-type {\n",
              "        vertical-align: middle;\n",
              "    }\n",
              "\n",
              "    .dataframe tbody tr th {\n",
              "        vertical-align: top;\n",
              "    }\n",
              "\n",
              "    .dataframe thead th {\n",
              "        text-align: right;\n",
              "    }\n",
              "</style>\n",
              "<table border=\"1\" class=\"dataframe\">\n",
              "  <thead>\n",
              "    <tr style=\"text-align: right;\">\n",
              "      <th></th>\n",
              "      <th>Ã¯Â»Â¿Domain Code</th>\n",
              "      <th>Domain</th>\n",
              "      <th>Area Code (M49)</th>\n",
              "      <th>Area</th>\n",
              "      <th>Element Code</th>\n",
              "      <th>Element</th>\n",
              "      <th>Item Code</th>\n",
              "      <th>Item</th>\n",
              "      <th>Year Code</th>\n",
              "      <th>Year</th>\n",
              "      <th>Unit</th>\n",
              "      <th>Value</th>\n",
              "      <th>Flag</th>\n",
              "      <th>Flag Description</th>\n",
              "    </tr>\n",
              "  </thead>\n",
              "  <tbody>\n",
              "    <tr>\n",
              "      <th>0</th>\n",
              "      <td>FO</td>\n",
              "      <td>Forestry Production and Trade</td>\n",
              "      <td>356</td>\n",
              "      <td>India</td>\n",
              "      <td>5516</td>\n",
              "      <td>Production</td>\n",
              "      <td>1627</td>\n",
              "      <td>Wood fuel, coniferous</td>\n",
              "      <td>1961</td>\n",
              "      <td>1961</td>\n",
              "      <td>m3</td>\n",
              "      <td>4653328.0</td>\n",
              "      <td>I</td>\n",
              "      <td>Imputed value</td>\n",
              "    </tr>\n",
              "    <tr>\n",
              "      <th>1</th>\n",
              "      <td>FO</td>\n",
              "      <td>Forestry Production and Trade</td>\n",
              "      <td>356</td>\n",
              "      <td>India</td>\n",
              "      <td>5516</td>\n",
              "      <td>Production</td>\n",
              "      <td>1627</td>\n",
              "      <td>Wood fuel, coniferous</td>\n",
              "      <td>1962</td>\n",
              "      <td>1962</td>\n",
              "      <td>m3</td>\n",
              "      <td>4753509.0</td>\n",
              "      <td>I</td>\n",
              "      <td>Imputed value</td>\n",
              "    </tr>\n",
              "    <tr>\n",
              "      <th>2</th>\n",
              "      <td>FO</td>\n",
              "      <td>Forestry Production and Trade</td>\n",
              "      <td>356</td>\n",
              "      <td>India</td>\n",
              "      <td>5516</td>\n",
              "      <td>Production</td>\n",
              "      <td>1627</td>\n",
              "      <td>Wood fuel, coniferous</td>\n",
              "      <td>1963</td>\n",
              "      <td>1963</td>\n",
              "      <td>m3</td>\n",
              "      <td>4855781.0</td>\n",
              "      <td>I</td>\n",
              "      <td>Imputed value</td>\n",
              "    </tr>\n",
              "    <tr>\n",
              "      <th>3</th>\n",
              "      <td>FO</td>\n",
              "      <td>Forestry Production and Trade</td>\n",
              "      <td>356</td>\n",
              "      <td>India</td>\n",
              "      <td>5516</td>\n",
              "      <td>Production</td>\n",
              "      <td>1627</td>\n",
              "      <td>Wood fuel, coniferous</td>\n",
              "      <td>1964</td>\n",
              "      <td>1964</td>\n",
              "      <td>m3</td>\n",
              "      <td>4960288.0</td>\n",
              "      <td>I</td>\n",
              "      <td>Imputed value</td>\n",
              "    </tr>\n",
              "    <tr>\n",
              "      <th>4</th>\n",
              "      <td>FO</td>\n",
              "      <td>Forestry Production and Trade</td>\n",
              "      <td>356</td>\n",
              "      <td>India</td>\n",
              "      <td>5516</td>\n",
              "      <td>Production</td>\n",
              "      <td>1627</td>\n",
              "      <td>Wood fuel, coniferous</td>\n",
              "      <td>1965</td>\n",
              "      <td>1965</td>\n",
              "      <td>m3</td>\n",
              "      <td>5066998.0</td>\n",
              "      <td>I</td>\n",
              "      <td>Imputed value</td>\n",
              "    </tr>\n",
              "  </tbody>\n",
              "</table>\n",
              "</div>\n",
              "    <div class=\"colab-df-buttons\">\n",
              "\n",
              "  <div class=\"colab-df-container\">\n",
              "    <button class=\"colab-df-convert\" onclick=\"convertToInteractive('df-d2ac5bab-0f3c-4e81-9dde-95b4da01ed00')\"\n",
              "            title=\"Convert this dataframe to an interactive table.\"\n",
              "            style=\"display:none;\">\n",
              "\n",
              "  <svg xmlns=\"http://www.w3.org/2000/svg\" height=\"24px\" viewBox=\"0 -960 960 960\">\n",
              "    <path d=\"M120-120v-720h720v720H120Zm60-500h600v-160H180v160Zm220 220h160v-160H400v160Zm0 220h160v-160H400v160ZM180-400h160v-160H180v160Zm440 0h160v-160H620v160ZM180-180h160v-160H180v160Zm440 0h160v-160H620v160Z\"/>\n",
              "  </svg>\n",
              "    </button>\n",
              "\n",
              "  <style>\n",
              "    .colab-df-container {\n",
              "      display:flex;\n",
              "      gap: 12px;\n",
              "    }\n",
              "\n",
              "    .colab-df-convert {\n",
              "      background-color: #E8F0FE;\n",
              "      border: none;\n",
              "      border-radius: 50%;\n",
              "      cursor: pointer;\n",
              "      display: none;\n",
              "      fill: #1967D2;\n",
              "      height: 32px;\n",
              "      padding: 0 0 0 0;\n",
              "      width: 32px;\n",
              "    }\n",
              "\n",
              "    .colab-df-convert:hover {\n",
              "      background-color: #E2EBFA;\n",
              "      box-shadow: 0px 1px 2px rgba(60, 64, 67, 0.3), 0px 1px 3px 1px rgba(60, 64, 67, 0.15);\n",
              "      fill: #174EA6;\n",
              "    }\n",
              "\n",
              "    .colab-df-buttons div {\n",
              "      margin-bottom: 4px;\n",
              "    }\n",
              "\n",
              "    [theme=dark] .colab-df-convert {\n",
              "      background-color: #3B4455;\n",
              "      fill: #D2E3FC;\n",
              "    }\n",
              "\n",
              "    [theme=dark] .colab-df-convert:hover {\n",
              "      background-color: #434B5C;\n",
              "      box-shadow: 0px 1px 3px 1px rgba(0, 0, 0, 0.15);\n",
              "      filter: drop-shadow(0px 1px 2px rgba(0, 0, 0, 0.3));\n",
              "      fill: #FFFFFF;\n",
              "    }\n",
              "  </style>\n",
              "\n",
              "    <script>\n",
              "      const buttonEl =\n",
              "        document.querySelector('#df-d2ac5bab-0f3c-4e81-9dde-95b4da01ed00 button.colab-df-convert');\n",
              "      buttonEl.style.display =\n",
              "        google.colab.kernel.accessAllowed ? 'block' : 'none';\n",
              "\n",
              "      async function convertToInteractive(key) {\n",
              "        const element = document.querySelector('#df-d2ac5bab-0f3c-4e81-9dde-95b4da01ed00');\n",
              "        const dataTable =\n",
              "          await google.colab.kernel.invokeFunction('convertToInteractive',\n",
              "                                                    [key], {});\n",
              "        if (!dataTable) return;\n",
              "\n",
              "        const docLinkHtml = 'Like what you see? Visit the ' +\n",
              "          '<a target=\"_blank\" href=https://colab.research.google.com/notebooks/data_table.ipynb>data table notebook</a>'\n",
              "          + ' to learn more about interactive tables.';\n",
              "        element.innerHTML = '';\n",
              "        dataTable['output_type'] = 'display_data';\n",
              "        await google.colab.output.renderOutput(dataTable, element);\n",
              "        const docLink = document.createElement('div');\n",
              "        docLink.innerHTML = docLinkHtml;\n",
              "        element.appendChild(docLink);\n",
              "      }\n",
              "    </script>\n",
              "  </div>\n",
              "\n",
              "\n",
              "<div id=\"df-81f31057-5b38-4f2a-8efc-7511c346dec2\">\n",
              "  <button class=\"colab-df-quickchart\" onclick=\"quickchart('df-81f31057-5b38-4f2a-8efc-7511c346dec2')\"\n",
              "            title=\"Suggest charts.\"\n",
              "            style=\"display:none;\">\n",
              "\n",
              "<svg xmlns=\"http://www.w3.org/2000/svg\" height=\"24px\"viewBox=\"0 0 24 24\"\n",
              "     width=\"24px\">\n",
              "    <g>\n",
              "        <path d=\"M19 3H5c-1.1 0-2 .9-2 2v14c0 1.1.9 2 2 2h14c1.1 0 2-.9 2-2V5c0-1.1-.9-2-2-2zM9 17H7v-7h2v7zm4 0h-2V7h2v10zm4 0h-2v-4h2v4z\"/>\n",
              "    </g>\n",
              "</svg>\n",
              "  </button>\n",
              "\n",
              "<style>\n",
              "  .colab-df-quickchart {\n",
              "    background-color: #E8F0FE;\n",
              "    border: none;\n",
              "    border-radius: 50%;\n",
              "    cursor: pointer;\n",
              "    display: none;\n",
              "    fill: #1967D2;\n",
              "    height: 32px;\n",
              "    padding: 0 0 0 0;\n",
              "    width: 32px;\n",
              "  }\n",
              "\n",
              "  .colab-df-quickchart:hover {\n",
              "    background-color: #E2EBFA;\n",
              "    box-shadow: 0px 1px 2px rgba(60, 64, 67, 0.3), 0px 1px 3px 1px rgba(60, 64, 67, 0.15);\n",
              "    fill: #174EA6;\n",
              "  }\n",
              "\n",
              "  [theme=dark] .colab-df-quickchart {\n",
              "    background-color: #3B4455;\n",
              "    fill: #D2E3FC;\n",
              "  }\n",
              "\n",
              "  [theme=dark] .colab-df-quickchart:hover {\n",
              "    background-color: #434B5C;\n",
              "    box-shadow: 0px 1px 3px 1px rgba(0, 0, 0, 0.15);\n",
              "    filter: drop-shadow(0px 1px 2px rgba(0, 0, 0, 0.3));\n",
              "    fill: #FFFFFF;\n",
              "  }\n",
              "</style>\n",
              "\n",
              "  <script>\n",
              "    async function quickchart(key) {\n",
              "      const charts = await google.colab.kernel.invokeFunction(\n",
              "          'suggestCharts', [key], {});\n",
              "    }\n",
              "    (() => {\n",
              "      let quickchartButtonEl =\n",
              "        document.querySelector('#df-81f31057-5b38-4f2a-8efc-7511c346dec2 button');\n",
              "      quickchartButtonEl.style.display =\n",
              "        google.colab.kernel.accessAllowed ? 'block' : 'none';\n",
              "    })();\n",
              "  </script>\n",
              "</div>\n",
              "    </div>\n",
              "  </div>\n"
            ]
          },
          "metadata": {},
          "execution_count": 172
        }
      ]
    },
    {
      "cell_type": "code",
      "source": [
        "data['Area'].value_counts()\n",
        "\n",
        "print(data['Item Code'].value_counts() )"
      ],
      "metadata": {
        "colab": {
          "base_uri": "https://localhost:8080/"
        },
        "id": "ciphSMtIoHrL",
        "outputId": "5f0f10b9-c0a4-4c66-dbb6-8a95dc13b72b"
      },
      "execution_count": 173,
      "outputs": [
        {
          "output_type": "stream",
          "name": "stdout",
          "text": [
            "1675    305\n",
            "1683    303\n",
            "1633    303\n",
            "1674    303\n",
            "1640    293\n",
            "1632    257\n",
            "1634    249\n",
            "1671    243\n",
            "1668    236\n",
            "1630    229\n",
            "1669    227\n",
            "1656    225\n",
            "1663    217\n",
            "1676    207\n",
            "1629    194\n",
            "1667    193\n",
            "1650    188\n",
            "1654    186\n",
            "1662    185\n",
            "1604    177\n",
            "1681    175\n",
            "1661    161\n",
            "1660    138\n",
            "1697    135\n",
            "1646    135\n",
            "1649    130\n",
            "1648    128\n",
            "1657    128\n",
            "1651    124\n",
            "1615    120\n",
            "1616    120\n",
            "1620    120\n",
            "1617    116\n",
            "1621    116\n",
            "1619    116\n",
            "1618    116\n",
            "1612    110\n",
            "1601    109\n",
            "1647    107\n",
            "1655    105\n",
            "1670     92\n",
            "1622     92\n",
            "1627     81\n",
            "1628     75\n",
            "1626     61\n",
            "1623     61\n",
            "1606     56\n",
            "1609     56\n",
            "1693     38\n",
            "1608     37\n",
            "1611     37\n",
            "1686     25\n",
            "1685     25\n",
            "1603     24\n",
            "1602     21\n",
            "1625     12\n",
            "1694     12\n",
            "1614      6\n",
            "Name: Item Code, dtype: int64\n"
          ]
        }
      ]
    },
    {
      "cell_type": "code",
      "source": [
        "print(data['Unit'].value_counts())"
      ],
      "metadata": {
        "colab": {
          "base_uri": "https://localhost:8080/"
        },
        "id": "kEaFykF35pjE",
        "outputId": "d32086f5-8a85-4c25-9cd9-fd3bc5d5cc1b"
      },
      "execution_count": 174,
      "outputs": [
        {
          "output_type": "stream",
          "name": "stdout",
          "text": [
            "1000 USD    3071\n",
            "t           2776\n",
            "m3          2193\n",
            "Name: Unit, dtype: int64\n"
          ]
        }
      ]
    },
    {
      "cell_type": "code",
      "source": [
        "print(data['Domain'].value_counts())"
      ],
      "metadata": {
        "colab": {
          "base_uri": "https://localhost:8080/"
        },
        "id": "D7tnG1eh5iYm",
        "outputId": "f7bd85d8-bc6b-475e-ef1a-6c0b1ef8f04b"
      },
      "execution_count": 175,
      "outputs": [
        {
          "output_type": "stream",
          "name": "stdout",
          "text": [
            "Forestry Production and Trade    8040\n",
            "Name: Domain, dtype: int64\n"
          ]
        }
      ]
    },
    {
      "cell_type": "code",
      "source": [
        "print(data['Item'].value_counts())"
      ],
      "metadata": {
        "colab": {
          "base_uri": "https://localhost:8080/"
        },
        "id": "4r0Gkt--5sXv",
        "outputId": "178a07c8-42a5-4444-eb66-c58b488c496e"
      },
      "execution_count": 176,
      "outputs": [
        {
          "output_type": "stream",
          "name": "stdout",
          "text": [
            "Other paper and paperboard                                            305\n",
            "Other paper and paperboard n.e.s. (not elsewhere specified)           303\n",
            "Sawnwood, non-coniferous all                                          303\n",
            "Printing and writing papers                                           303\n",
            "Plywood                                                               293\n",
            "Sawnwood, coniferous                                                  257\n",
            "Veneer sheets                                                         249\n",
            "Newsprint                                                             243\n",
            "Pulp from fibres other than wood                                      236\n",
            "Wood charcoal                                                         229\n",
            "Recovered paper                                                       227\n",
            "Chemical wood pulp                                                    225\n",
            "Chemical wood pulp, sulphate, bleached                                217\n",
            "Household and sanitary papers                                         207\n",
            "Wood fuel, all species (export/import, 1961-2016)                     194\n",
            "Dissolving wood pulp                                                  193\n",
            "Other fibreboard                                                      188\n",
            "Mechanical wood pulp                                                  186\n",
            "Chemical wood pulp, sulphate, unbleached                              185\n",
            "Sawlogs and veneer logs, non-coniferous                               177\n",
            "Wrapping and packaging paper and paperboard (1961-1997)               175\n",
            "Chemical wood pulp, sulphite, bleached                                161\n",
            "Chemical wood pulp, sulphite, unbleached                              138\n",
            "Particle board                                                        135\n",
            "Particle board and OSB (1961-1994)                                    135\n",
            "Fibreboard, compressed (1961-1994)                                    130\n",
            "MDF/HDF                                                               128\n",
            "Industrial roundwood, non-coniferous tropical (export/import)         128\n",
            "Industrial roundwood, coniferous (export/import)                      124\n",
            "Printing and writing papers, uncoated, wood free                      120\n",
            "Printing and writing papers, coated                                   120\n",
            "Wood residues                                                         120\n",
            "Case materials                                                        116\n",
            "Wrapping papers                                                       116\n",
            "Wood chips and particles                                              116\n",
            "Cartonboard                                                           116\n",
            "Printing and writing papers, uncoated, mechanical                     110\n",
            "Sawlogs and veneer logs, coniferous                                   109\n",
            "Hardboard                                                             107\n",
            "Semi-chemical wood pulp                                               105\n",
            "Industrial roundwood, non-coniferous non-tropical (export/import)      92\n",
            "Other papers mainly for packaging                                      92\n",
            "Wood fuel, coniferous                                                  81\n",
            "Wood fuel, non-coniferous                                              75\n",
            "Other industrial roundwood, non-coniferous (production)                61\n",
            "Other industrial roundwood, coniferous (production)                    61\n",
            "OSB                                                                    56\n",
            "Recovered fibre pulp                                                   56\n",
            "Wood pellets                                                           38\n",
            "Pulpwood and particles, coniferous (production, 1961-1997)             37\n",
            "Pulpwood and particles, non-coniferous (production, 1961-1997)         37\n",
            "Chemical wood pulp, sulphite                                           25\n",
            "Mechanical and semi-chemical wood pulp                                 25\n",
            "Pulpwood, round and split, non-coniferous (production)                 24\n",
            "Pulpwood, round and split, coniferous (production)                     21\n",
            "Other industrial roundwood, all species (export/import, 1961-1989)     12\n",
            "Wood briquettes and other agglomerates                                 12\n",
            "Pulpwood, round and split, all species (export/import, 1961-1989)       6\n",
            "Name: Item, dtype: int64\n"
          ]
        }
      ]
    },
    {
      "cell_type": "code",
      "source": [
        "data.info()"
      ],
      "metadata": {
        "colab": {
          "base_uri": "https://localhost:8080/"
        },
        "id": "ZHh649wdY7Sj",
        "outputId": "953885fd-e1f3-4f03-935d-171a41bef22b"
      },
      "execution_count": 177,
      "outputs": [
        {
          "output_type": "stream",
          "name": "stdout",
          "text": [
            "<class 'pandas.core.frame.DataFrame'>\n",
            "RangeIndex: 8040 entries, 0 to 8039\n",
            "Data columns (total 14 columns):\n",
            " #   Column             Non-Null Count  Dtype  \n",
            "---  ------             --------------  -----  \n",
            " 0   Ã¯Â»Â¿Domain Code  8040 non-null   object \n",
            " 1   Domain             8040 non-null   object \n",
            " 2   Area Code (M49)    8040 non-null   int64  \n",
            " 3   Area               8040 non-null   object \n",
            " 4   Element Code       8040 non-null   int64  \n",
            " 5   Element            8040 non-null   object \n",
            " 6   Item Code          8040 non-null   int64  \n",
            " 7   Item               8040 non-null   object \n",
            " 8   Year Code          8040 non-null   int64  \n",
            " 9   Year               8040 non-null   int64  \n",
            " 10  Unit               8040 non-null   object \n",
            " 11  Value              8040 non-null   float64\n",
            " 12  Flag               8040 non-null   object \n",
            " 13  Flag Description   8040 non-null   object \n",
            "dtypes: float64(1), int64(5), object(8)\n",
            "memory usage: 879.5+ KB\n"
          ]
        }
      ]
    },
    {
      "cell_type": "code",
      "source": [
        "data.describe()"
      ],
      "metadata": {
        "colab": {
          "base_uri": "https://localhost:8080/",
          "height": 300
        },
        "id": "wR6p84aPcoDj",
        "outputId": "b0c81aaf-4468-4e79-ecff-7e57e4c9c829"
      },
      "execution_count": 178,
      "outputs": [
        {
          "output_type": "execute_result",
          "data": {
            "text/plain": [
              "       Area Code (M49)  Element Code    Item Code    Year Code         Year  \\\n",
              "count           8040.0   8040.000000  8040.000000  8040.000000  8040.000000   \n",
              "mean             356.0   5694.416667  1648.303109  1996.653483  1996.653483   \n",
              "std                0.0    165.220354    24.099780    17.066332    17.066332   \n",
              "min              356.0   5510.000000  1601.000000  1961.000000  1961.000000   \n",
              "25%              356.0   5610.000000  1629.000000  1983.000000  1983.000000   \n",
              "50%              356.0   5622.000000  1650.000000  2000.000000  2000.000000   \n",
              "75%              356.0   5910.000000  1669.000000  2011.000000  2011.000000   \n",
              "max              356.0   5922.000000  1697.000000  2021.000000  2021.000000   \n",
              "\n",
              "              Value  \n",
              "count  8.040000e+03  \n",
              "mean   2.454434e+06  \n",
              "std    2.206713e+07  \n",
              "min    0.000000e+00  \n",
              "25%    1.089750e+03  \n",
              "50%    1.143850e+04  \n",
              "75%    1.467958e+05  \n",
              "max    3.000049e+08  "
            ],
            "text/html": [
              "\n",
              "  <div id=\"df-7f6a9d2c-0c79-4403-b9d6-f2cb4c93dbae\" class=\"colab-df-container\">\n",
              "    <div>\n",
              "<style scoped>\n",
              "    .dataframe tbody tr th:only-of-type {\n",
              "        vertical-align: middle;\n",
              "    }\n",
              "\n",
              "    .dataframe tbody tr th {\n",
              "        vertical-align: top;\n",
              "    }\n",
              "\n",
              "    .dataframe thead th {\n",
              "        text-align: right;\n",
              "    }\n",
              "</style>\n",
              "<table border=\"1\" class=\"dataframe\">\n",
              "  <thead>\n",
              "    <tr style=\"text-align: right;\">\n",
              "      <th></th>\n",
              "      <th>Area Code (M49)</th>\n",
              "      <th>Element Code</th>\n",
              "      <th>Item Code</th>\n",
              "      <th>Year Code</th>\n",
              "      <th>Year</th>\n",
              "      <th>Value</th>\n",
              "    </tr>\n",
              "  </thead>\n",
              "  <tbody>\n",
              "    <tr>\n",
              "      <th>count</th>\n",
              "      <td>8040.0</td>\n",
              "      <td>8040.000000</td>\n",
              "      <td>8040.000000</td>\n",
              "      <td>8040.000000</td>\n",
              "      <td>8040.000000</td>\n",
              "      <td>8.040000e+03</td>\n",
              "    </tr>\n",
              "    <tr>\n",
              "      <th>mean</th>\n",
              "      <td>356.0</td>\n",
              "      <td>5694.416667</td>\n",
              "      <td>1648.303109</td>\n",
              "      <td>1996.653483</td>\n",
              "      <td>1996.653483</td>\n",
              "      <td>2.454434e+06</td>\n",
              "    </tr>\n",
              "    <tr>\n",
              "      <th>std</th>\n",
              "      <td>0.0</td>\n",
              "      <td>165.220354</td>\n",
              "      <td>24.099780</td>\n",
              "      <td>17.066332</td>\n",
              "      <td>17.066332</td>\n",
              "      <td>2.206713e+07</td>\n",
              "    </tr>\n",
              "    <tr>\n",
              "      <th>min</th>\n",
              "      <td>356.0</td>\n",
              "      <td>5510.000000</td>\n",
              "      <td>1601.000000</td>\n",
              "      <td>1961.000000</td>\n",
              "      <td>1961.000000</td>\n",
              "      <td>0.000000e+00</td>\n",
              "    </tr>\n",
              "    <tr>\n",
              "      <th>25%</th>\n",
              "      <td>356.0</td>\n",
              "      <td>5610.000000</td>\n",
              "      <td>1629.000000</td>\n",
              "      <td>1983.000000</td>\n",
              "      <td>1983.000000</td>\n",
              "      <td>1.089750e+03</td>\n",
              "    </tr>\n",
              "    <tr>\n",
              "      <th>50%</th>\n",
              "      <td>356.0</td>\n",
              "      <td>5622.000000</td>\n",
              "      <td>1650.000000</td>\n",
              "      <td>2000.000000</td>\n",
              "      <td>2000.000000</td>\n",
              "      <td>1.143850e+04</td>\n",
              "    </tr>\n",
              "    <tr>\n",
              "      <th>75%</th>\n",
              "      <td>356.0</td>\n",
              "      <td>5910.000000</td>\n",
              "      <td>1669.000000</td>\n",
              "      <td>2011.000000</td>\n",
              "      <td>2011.000000</td>\n",
              "      <td>1.467958e+05</td>\n",
              "    </tr>\n",
              "    <tr>\n",
              "      <th>max</th>\n",
              "      <td>356.0</td>\n",
              "      <td>5922.000000</td>\n",
              "      <td>1697.000000</td>\n",
              "      <td>2021.000000</td>\n",
              "      <td>2021.000000</td>\n",
              "      <td>3.000049e+08</td>\n",
              "    </tr>\n",
              "  </tbody>\n",
              "</table>\n",
              "</div>\n",
              "    <div class=\"colab-df-buttons\">\n",
              "\n",
              "  <div class=\"colab-df-container\">\n",
              "    <button class=\"colab-df-convert\" onclick=\"convertToInteractive('df-7f6a9d2c-0c79-4403-b9d6-f2cb4c93dbae')\"\n",
              "            title=\"Convert this dataframe to an interactive table.\"\n",
              "            style=\"display:none;\">\n",
              "\n",
              "  <svg xmlns=\"http://www.w3.org/2000/svg\" height=\"24px\" viewBox=\"0 -960 960 960\">\n",
              "    <path d=\"M120-120v-720h720v720H120Zm60-500h600v-160H180v160Zm220 220h160v-160H400v160Zm0 220h160v-160H400v160ZM180-400h160v-160H180v160Zm440 0h160v-160H620v160ZM180-180h160v-160H180v160Zm440 0h160v-160H620v160Z\"/>\n",
              "  </svg>\n",
              "    </button>\n",
              "\n",
              "  <style>\n",
              "    .colab-df-container {\n",
              "      display:flex;\n",
              "      gap: 12px;\n",
              "    }\n",
              "\n",
              "    .colab-df-convert {\n",
              "      background-color: #E8F0FE;\n",
              "      border: none;\n",
              "      border-radius: 50%;\n",
              "      cursor: pointer;\n",
              "      display: none;\n",
              "      fill: #1967D2;\n",
              "      height: 32px;\n",
              "      padding: 0 0 0 0;\n",
              "      width: 32px;\n",
              "    }\n",
              "\n",
              "    .colab-df-convert:hover {\n",
              "      background-color: #E2EBFA;\n",
              "      box-shadow: 0px 1px 2px rgba(60, 64, 67, 0.3), 0px 1px 3px 1px rgba(60, 64, 67, 0.15);\n",
              "      fill: #174EA6;\n",
              "    }\n",
              "\n",
              "    .colab-df-buttons div {\n",
              "      margin-bottom: 4px;\n",
              "    }\n",
              "\n",
              "    [theme=dark] .colab-df-convert {\n",
              "      background-color: #3B4455;\n",
              "      fill: #D2E3FC;\n",
              "    }\n",
              "\n",
              "    [theme=dark] .colab-df-convert:hover {\n",
              "      background-color: #434B5C;\n",
              "      box-shadow: 0px 1px 3px 1px rgba(0, 0, 0, 0.15);\n",
              "      filter: drop-shadow(0px 1px 2px rgba(0, 0, 0, 0.3));\n",
              "      fill: #FFFFFF;\n",
              "    }\n",
              "  </style>\n",
              "\n",
              "    <script>\n",
              "      const buttonEl =\n",
              "        document.querySelector('#df-7f6a9d2c-0c79-4403-b9d6-f2cb4c93dbae button.colab-df-convert');\n",
              "      buttonEl.style.display =\n",
              "        google.colab.kernel.accessAllowed ? 'block' : 'none';\n",
              "\n",
              "      async function convertToInteractive(key) {\n",
              "        const element = document.querySelector('#df-7f6a9d2c-0c79-4403-b9d6-f2cb4c93dbae');\n",
              "        const dataTable =\n",
              "          await google.colab.kernel.invokeFunction('convertToInteractive',\n",
              "                                                    [key], {});\n",
              "        if (!dataTable) return;\n",
              "\n",
              "        const docLinkHtml = 'Like what you see? Visit the ' +\n",
              "          '<a target=\"_blank\" href=https://colab.research.google.com/notebooks/data_table.ipynb>data table notebook</a>'\n",
              "          + ' to learn more about interactive tables.';\n",
              "        element.innerHTML = '';\n",
              "        dataTable['output_type'] = 'display_data';\n",
              "        await google.colab.output.renderOutput(dataTable, element);\n",
              "        const docLink = document.createElement('div');\n",
              "        docLink.innerHTML = docLinkHtml;\n",
              "        element.appendChild(docLink);\n",
              "      }\n",
              "    </script>\n",
              "  </div>\n",
              "\n",
              "\n",
              "<div id=\"df-d417bd07-8f46-4fd5-b9ca-b30f85c3ecd3\">\n",
              "  <button class=\"colab-df-quickchart\" onclick=\"quickchart('df-d417bd07-8f46-4fd5-b9ca-b30f85c3ecd3')\"\n",
              "            title=\"Suggest charts.\"\n",
              "            style=\"display:none;\">\n",
              "\n",
              "<svg xmlns=\"http://www.w3.org/2000/svg\" height=\"24px\"viewBox=\"0 0 24 24\"\n",
              "     width=\"24px\">\n",
              "    <g>\n",
              "        <path d=\"M19 3H5c-1.1 0-2 .9-2 2v14c0 1.1.9 2 2 2h14c1.1 0 2-.9 2-2V5c0-1.1-.9-2-2-2zM9 17H7v-7h2v7zm4 0h-2V7h2v10zm4 0h-2v-4h2v4z\"/>\n",
              "    </g>\n",
              "</svg>\n",
              "  </button>\n",
              "\n",
              "<style>\n",
              "  .colab-df-quickchart {\n",
              "    background-color: #E8F0FE;\n",
              "    border: none;\n",
              "    border-radius: 50%;\n",
              "    cursor: pointer;\n",
              "    display: none;\n",
              "    fill: #1967D2;\n",
              "    height: 32px;\n",
              "    padding: 0 0 0 0;\n",
              "    width: 32px;\n",
              "  }\n",
              "\n",
              "  .colab-df-quickchart:hover {\n",
              "    background-color: #E2EBFA;\n",
              "    box-shadow: 0px 1px 2px rgba(60, 64, 67, 0.3), 0px 1px 3px 1px rgba(60, 64, 67, 0.15);\n",
              "    fill: #174EA6;\n",
              "  }\n",
              "\n",
              "  [theme=dark] .colab-df-quickchart {\n",
              "    background-color: #3B4455;\n",
              "    fill: #D2E3FC;\n",
              "  }\n",
              "\n",
              "  [theme=dark] .colab-df-quickchart:hover {\n",
              "    background-color: #434B5C;\n",
              "    box-shadow: 0px 1px 3px 1px rgba(0, 0, 0, 0.15);\n",
              "    filter: drop-shadow(0px 1px 2px rgba(0, 0, 0, 0.3));\n",
              "    fill: #FFFFFF;\n",
              "  }\n",
              "</style>\n",
              "\n",
              "  <script>\n",
              "    async function quickchart(key) {\n",
              "      const charts = await google.colab.kernel.invokeFunction(\n",
              "          'suggestCharts', [key], {});\n",
              "    }\n",
              "    (() => {\n",
              "      let quickchartButtonEl =\n",
              "        document.querySelector('#df-d417bd07-8f46-4fd5-b9ca-b30f85c3ecd3 button');\n",
              "      quickchartButtonEl.style.display =\n",
              "        google.colab.kernel.accessAllowed ? 'block' : 'none';\n",
              "    })();\n",
              "  </script>\n",
              "</div>\n",
              "    </div>\n",
              "  </div>\n"
            ]
          },
          "metadata": {},
          "execution_count": 178
        }
      ]
    },
    {
      "cell_type": "code",
      "source": [
        "data.shape"
      ],
      "metadata": {
        "id": "Qp885wjvcqqi",
        "colab": {
          "base_uri": "https://localhost:8080/"
        },
        "outputId": "616cb27d-65d2-441b-b903-f02e56deda49"
      },
      "execution_count": 179,
      "outputs": [
        {
          "output_type": "execute_result",
          "data": {
            "text/plain": [
              "(8040, 14)"
            ]
          },
          "metadata": {},
          "execution_count": 179
        }
      ]
    },
    {
      "cell_type": "code",
      "source": [
        "data.isnull().sum()"
      ],
      "metadata": {
        "colab": {
          "base_uri": "https://localhost:8080/"
        },
        "id": "FDkDQ7gAyNh0",
        "outputId": "f28d36ee-23c3-4d79-bdd1-3a66791b8d69"
      },
      "execution_count": 180,
      "outputs": [
        {
          "output_type": "execute_result",
          "data": {
            "text/plain": [
              "Ã¯Â»Â¿Domain Code    0\n",
              "Domain               0\n",
              "Area Code (M49)      0\n",
              "Area                 0\n",
              "Element Code         0\n",
              "Element              0\n",
              "Item Code            0\n",
              "Item                 0\n",
              "Year Code            0\n",
              "Year                 0\n",
              "Unit                 0\n",
              "Value                0\n",
              "Flag                 0\n",
              "Flag Description     0\n",
              "dtype: int64"
            ]
          },
          "metadata": {},
          "execution_count": 180
        }
      ]
    },
    {
      "cell_type": "code",
      "source": [
        "(data.corr()*100).style.background_gradient('coolwarm')"
      ],
      "metadata": {
        "colab": {
          "base_uri": "https://localhost:8080/",
          "height": 361
        },
        "id": "qsnJcnFlyazM",
        "outputId": "07e4ac63-72bb-4d12-e330-dccda5fa713b"
      },
      "execution_count": 181,
      "outputs": [
        {
          "output_type": "stream",
          "name": "stderr",
          "text": [
            "<ipython-input-181-8a751c342e4c>:1: FutureWarning: The default value of numeric_only in DataFrame.corr is deprecated. In a future version, it will default to False. Select only valid columns or specify the value of numeric_only to silence this warning.\n",
            "  (data.corr()*100).style.background_gradient('coolwarm')\n",
            "/usr/local/lib/python3.10/dist-packages/pandas/io/formats/style.py:3931: RuntimeWarning: All-NaN slice encountered\n",
            "  smin = np.nanmin(gmap) if vmin is None else vmin\n",
            "/usr/local/lib/python3.10/dist-packages/pandas/io/formats/style.py:3932: RuntimeWarning: All-NaN slice encountered\n",
            "  smax = np.nanmax(gmap) if vmax is None else vmax\n"
          ]
        },
        {
          "output_type": "execute_result",
          "data": {
            "text/plain": [
              "<pandas.io.formats.style.Styler at 0x7a5c6b287880>"
            ],
            "text/html": [
              "<style type=\"text/css\">\n",
              "#T_75d3c_row0_col0, #T_75d3c_row0_col1, #T_75d3c_row0_col2, #T_75d3c_row0_col3, #T_75d3c_row0_col4, #T_75d3c_row0_col5, #T_75d3c_row1_col0, #T_75d3c_row2_col0, #T_75d3c_row3_col0, #T_75d3c_row4_col0, #T_75d3c_row5_col0 {\n",
              "  background-color: #000000;\n",
              "  color: #f1f1f1;\n",
              "}\n",
              "#T_75d3c_row1_col1, #T_75d3c_row2_col2, #T_75d3c_row3_col3, #T_75d3c_row3_col4, #T_75d3c_row4_col3, #T_75d3c_row4_col4, #T_75d3c_row5_col5 {\n",
              "  background-color: #b40426;\n",
              "  color: #f1f1f1;\n",
              "}\n",
              "#T_75d3c_row1_col2 {\n",
              "  background-color: #536edd;\n",
              "  color: #f1f1f1;\n",
              "}\n",
              "#T_75d3c_row1_col3, #T_75d3c_row1_col4 {\n",
              "  background-color: #7093f3;\n",
              "  color: #f1f1f1;\n",
              "}\n",
              "#T_75d3c_row1_col5, #T_75d3c_row2_col3, #T_75d3c_row2_col4, #T_75d3c_row5_col1, #T_75d3c_row5_col2 {\n",
              "  background-color: #3b4cc0;\n",
              "  color: #f1f1f1;\n",
              "}\n",
              "#T_75d3c_row2_col1 {\n",
              "  background-color: #5977e3;\n",
              "  color: #f1f1f1;\n",
              "}\n",
              "#T_75d3c_row2_col5 {\n",
              "  background-color: #4055c8;\n",
              "  color: #f1f1f1;\n",
              "}\n",
              "#T_75d3c_row3_col1, #T_75d3c_row4_col1 {\n",
              "  background-color: #80a3fa;\n",
              "  color: #f1f1f1;\n",
              "}\n",
              "#T_75d3c_row3_col2, #T_75d3c_row4_col2 {\n",
              "  background-color: #4358cb;\n",
              "  color: #f1f1f1;\n",
              "}\n",
              "#T_75d3c_row3_col5, #T_75d3c_row4_col5 {\n",
              "  background-color: #5a78e4;\n",
              "  color: #f1f1f1;\n",
              "}\n",
              "#T_75d3c_row5_col3, #T_75d3c_row5_col4 {\n",
              "  background-color: #4a63d3;\n",
              "  color: #f1f1f1;\n",
              "}\n",
              "</style>\n",
              "<table id=\"T_75d3c\" class=\"dataframe\">\n",
              "  <thead>\n",
              "    <tr>\n",
              "      <th class=\"blank level0\" >&nbsp;</th>\n",
              "      <th id=\"T_75d3c_level0_col0\" class=\"col_heading level0 col0\" >Area Code (M49)</th>\n",
              "      <th id=\"T_75d3c_level0_col1\" class=\"col_heading level0 col1\" >Element Code</th>\n",
              "      <th id=\"T_75d3c_level0_col2\" class=\"col_heading level0 col2\" >Item Code</th>\n",
              "      <th id=\"T_75d3c_level0_col3\" class=\"col_heading level0 col3\" >Year Code</th>\n",
              "      <th id=\"T_75d3c_level0_col4\" class=\"col_heading level0 col4\" >Year</th>\n",
              "      <th id=\"T_75d3c_level0_col5\" class=\"col_heading level0 col5\" >Value</th>\n",
              "    </tr>\n",
              "  </thead>\n",
              "  <tbody>\n",
              "    <tr>\n",
              "      <th id=\"T_75d3c_level0_row0\" class=\"row_heading level0 row0\" >Area Code (M49)</th>\n",
              "      <td id=\"T_75d3c_row0_col0\" class=\"data row0 col0\" >nan</td>\n",
              "      <td id=\"T_75d3c_row0_col1\" class=\"data row0 col1\" >nan</td>\n",
              "      <td id=\"T_75d3c_row0_col2\" class=\"data row0 col2\" >nan</td>\n",
              "      <td id=\"T_75d3c_row0_col3\" class=\"data row0 col3\" >nan</td>\n",
              "      <td id=\"T_75d3c_row0_col4\" class=\"data row0 col4\" >nan</td>\n",
              "      <td id=\"T_75d3c_row0_col5\" class=\"data row0 col5\" >nan</td>\n",
              "    </tr>\n",
              "    <tr>\n",
              "      <th id=\"T_75d3c_level0_row1\" class=\"row_heading level0 row1\" >Element Code</th>\n",
              "      <td id=\"T_75d3c_row1_col0\" class=\"data row1 col0\" >nan</td>\n",
              "      <td id=\"T_75d3c_row1_col1\" class=\"data row1 col1\" >100.000000</td>\n",
              "      <td id=\"T_75d3c_row1_col2\" class=\"data row1 col2\" >-0.696760</td>\n",
              "      <td id=\"T_75d3c_row1_col3\" class=\"data row1 col3\" >11.851874</td>\n",
              "      <td id=\"T_75d3c_row1_col4\" class=\"data row1 col4\" >11.851874</td>\n",
              "      <td id=\"T_75d3c_row1_col5\" class=\"data row1 col5\" >-11.796083</td>\n",
              "    </tr>\n",
              "    <tr>\n",
              "      <th id=\"T_75d3c_level0_row2\" class=\"row_heading level0 row2\" >Item Code</th>\n",
              "      <td id=\"T_75d3c_row2_col0\" class=\"data row2 col0\" >nan</td>\n",
              "      <td id=\"T_75d3c_row2_col1\" class=\"data row2 col1\" >-0.696760</td>\n",
              "      <td id=\"T_75d3c_row2_col2\" class=\"data row2 col2\" >100.000000</td>\n",
              "      <td id=\"T_75d3c_row2_col3\" class=\"data row2 col3\" >-6.199449</td>\n",
              "      <td id=\"T_75d3c_row2_col4\" class=\"data row2 col4\" >-6.199449</td>\n",
              "      <td id=\"T_75d3c_row2_col5\" class=\"data row2 col5\" >-9.358195</td>\n",
              "    </tr>\n",
              "    <tr>\n",
              "      <th id=\"T_75d3c_level0_row3\" class=\"row_heading level0 row3\" >Year Code</th>\n",
              "      <td id=\"T_75d3c_row3_col0\" class=\"data row3 col0\" >nan</td>\n",
              "      <td id=\"T_75d3c_row3_col1\" class=\"data row3 col1\" >11.851874</td>\n",
              "      <td id=\"T_75d3c_row3_col2\" class=\"data row3 col2\" >-6.199449</td>\n",
              "      <td id=\"T_75d3c_row3_col3\" class=\"data row3 col3\" >100.000000</td>\n",
              "      <td id=\"T_75d3c_row3_col4\" class=\"data row3 col4\" >100.000000</td>\n",
              "      <td id=\"T_75d3c_row3_col5\" class=\"data row3 col5\" >-0.441513</td>\n",
              "    </tr>\n",
              "    <tr>\n",
              "      <th id=\"T_75d3c_level0_row4\" class=\"row_heading level0 row4\" >Year</th>\n",
              "      <td id=\"T_75d3c_row4_col0\" class=\"data row4 col0\" >nan</td>\n",
              "      <td id=\"T_75d3c_row4_col1\" class=\"data row4 col1\" >11.851874</td>\n",
              "      <td id=\"T_75d3c_row4_col2\" class=\"data row4 col2\" >-6.199449</td>\n",
              "      <td id=\"T_75d3c_row4_col3\" class=\"data row4 col3\" >100.000000</td>\n",
              "      <td id=\"T_75d3c_row4_col4\" class=\"data row4 col4\" >100.000000</td>\n",
              "      <td id=\"T_75d3c_row4_col5\" class=\"data row4 col5\" >-0.441513</td>\n",
              "    </tr>\n",
              "    <tr>\n",
              "      <th id=\"T_75d3c_level0_row5\" class=\"row_heading level0 row5\" >Value</th>\n",
              "      <td id=\"T_75d3c_row5_col0\" class=\"data row5 col0\" >nan</td>\n",
              "      <td id=\"T_75d3c_row5_col1\" class=\"data row5 col1\" >-11.796083</td>\n",
              "      <td id=\"T_75d3c_row5_col2\" class=\"data row5 col2\" >-9.358195</td>\n",
              "      <td id=\"T_75d3c_row5_col3\" class=\"data row5 col3\" >-0.441513</td>\n",
              "      <td id=\"T_75d3c_row5_col4\" class=\"data row5 col4\" >-0.441513</td>\n",
              "      <td id=\"T_75d3c_row5_col5\" class=\"data row5 col5\" >100.000000</td>\n",
              "    </tr>\n",
              "  </tbody>\n",
              "</table>\n"
            ]
          },
          "metadata": {},
          "execution_count": 181
        }
      ]
    },
    {
      "cell_type": "code",
      "source": [
        "data.duplicated().sum()"
      ],
      "metadata": {
        "colab": {
          "base_uri": "https://localhost:8080/"
        },
        "id": "IyKOIiL7yr-0",
        "outputId": "6c3b71c6-98b3-4bf5-af39-5e4d762be318"
      },
      "execution_count": 182,
      "outputs": [
        {
          "output_type": "execute_result",
          "data": {
            "text/plain": [
              "0"
            ]
          },
          "metadata": {},
          "execution_count": 182
        }
      ]
    },
    {
      "cell_type": "code",
      "source": [
        "list(data.columns.values)"
      ],
      "metadata": {
        "colab": {
          "base_uri": "https://localhost:8080/"
        },
        "id": "RvUdg1-p1LcJ",
        "outputId": "e39cec8d-717d-4a63-895e-6e7fd24a2aec"
      },
      "execution_count": 183,
      "outputs": [
        {
          "output_type": "execute_result",
          "data": {
            "text/plain": [
              "['Ã¯Â»Â¿Domain Code',\n",
              " 'Domain',\n",
              " 'Area Code (M49)',\n",
              " 'Area',\n",
              " 'Element Code',\n",
              " 'Element',\n",
              " 'Item Code',\n",
              " 'Item',\n",
              " 'Year Code',\n",
              " 'Year',\n",
              " 'Unit',\n",
              " 'Value',\n",
              " 'Flag',\n",
              " 'Flag Description']"
            ]
          },
          "metadata": {},
          "execution_count": 183
        }
      ]
    },
    {
      "cell_type": "code",
      "source": [],
      "metadata": {
        "id": "5LLtSyGfzm8G"
      },
      "execution_count": 183,
      "outputs": []
    },
    {
      "cell_type": "code",
      "source": [
        " data.drop(columns = ['Ã¯Â»Â¿Domain Code',\n",
        "                          'Flag Description',\n",
        "                          'Flag',\n",
        "                          'Element Code',\n",
        "                          'Item Code',\n",
        "                          'Year Code',\n",
        "                          'Area Code (M49)' ],\n",
        "                           axis = 1 ,inplace = True)\n"
      ],
      "metadata": {
        "id": "G3PXKfqJ1rny"
      },
      "execution_count": 184,
      "outputs": []
    },
    {
      "cell_type": "code",
      "source": [
        "data.drop(columns =  ['Area'] ,axis = 1 ,inplace = True)\n"
      ],
      "metadata": {
        "id": "aYQT9-JABW1e"
      },
      "execution_count": 185,
      "outputs": []
    },
    {
      "cell_type": "code",
      "source": [
        "data.drop(columns =  ['Domain'] ,axis= 1 ,inplace = True)"
      ],
      "metadata": {
        "id": "PRKf4Ya1BhKd"
      },
      "execution_count": 186,
      "outputs": []
    },
    {
      "cell_type": "code",
      "source": [
        "# df.info()"
      ],
      "metadata": {
        "id": "P_FYedmAMI56"
      },
      "execution_count": 187,
      "outputs": []
    },
    {
      "cell_type": "code",
      "source": [
        "(data.corr()*100).style.background_gradient('coolwarm')"
      ],
      "metadata": {
        "colab": {
          "base_uri": "https://localhost:8080/",
          "height": 166
        },
        "id": "dOUt56EH9v7U",
        "outputId": "3c5d2605-ca16-4b85-82ac-085d3cabe8f2"
      },
      "execution_count": 188,
      "outputs": [
        {
          "output_type": "stream",
          "name": "stderr",
          "text": [
            "<ipython-input-188-8a751c342e4c>:1: FutureWarning: The default value of numeric_only in DataFrame.corr is deprecated. In a future version, it will default to False. Select only valid columns or specify the value of numeric_only to silence this warning.\n",
            "  (data.corr()*100).style.background_gradient('coolwarm')\n"
          ]
        },
        {
          "output_type": "execute_result",
          "data": {
            "text/plain": [
              "<pandas.io.formats.style.Styler at 0x7a5c6b2743d0>"
            ],
            "text/html": [
              "<style type=\"text/css\">\n",
              "#T_1aa5c_row0_col0, #T_1aa5c_row1_col1 {\n",
              "  background-color: #b40426;\n",
              "  color: #f1f1f1;\n",
              "}\n",
              "#T_1aa5c_row0_col1, #T_1aa5c_row1_col0 {\n",
              "  background-color: #3b4cc0;\n",
              "  color: #f1f1f1;\n",
              "}\n",
              "</style>\n",
              "<table id=\"T_1aa5c\" class=\"dataframe\">\n",
              "  <thead>\n",
              "    <tr>\n",
              "      <th class=\"blank level0\" >&nbsp;</th>\n",
              "      <th id=\"T_1aa5c_level0_col0\" class=\"col_heading level0 col0\" >Year</th>\n",
              "      <th id=\"T_1aa5c_level0_col1\" class=\"col_heading level0 col1\" >Value</th>\n",
              "    </tr>\n",
              "  </thead>\n",
              "  <tbody>\n",
              "    <tr>\n",
              "      <th id=\"T_1aa5c_level0_row0\" class=\"row_heading level0 row0\" >Year</th>\n",
              "      <td id=\"T_1aa5c_row0_col0\" class=\"data row0 col0\" >100.000000</td>\n",
              "      <td id=\"T_1aa5c_row0_col1\" class=\"data row0 col1\" >-0.441513</td>\n",
              "    </tr>\n",
              "    <tr>\n",
              "      <th id=\"T_1aa5c_level0_row1\" class=\"row_heading level0 row1\" >Value</th>\n",
              "      <td id=\"T_1aa5c_row1_col0\" class=\"data row1 col0\" >-0.441513</td>\n",
              "      <td id=\"T_1aa5c_row1_col1\" class=\"data row1 col1\" >100.000000</td>\n",
              "    </tr>\n",
              "  </tbody>\n",
              "</table>\n"
            ]
          },
          "metadata": {},
          "execution_count": 188
        }
      ]
    },
    {
      "cell_type": "code",
      "source": [
        "data.head()"
      ],
      "metadata": {
        "colab": {
          "base_uri": "https://localhost:8080/",
          "height": 206
        },
        "id": "wGpgHmz992I5",
        "outputId": "32310542-86b6-435c-83ce-9d62ffad2b1a"
      },
      "execution_count": 189,
      "outputs": [
        {
          "output_type": "execute_result",
          "data": {
            "text/plain": [
              "      Element                   Item  Year Unit      Value\n",
              "0  Production  Wood fuel, coniferous  1961   m3  4653328.0\n",
              "1  Production  Wood fuel, coniferous  1962   m3  4753509.0\n",
              "2  Production  Wood fuel, coniferous  1963   m3  4855781.0\n",
              "3  Production  Wood fuel, coniferous  1964   m3  4960288.0\n",
              "4  Production  Wood fuel, coniferous  1965   m3  5066998.0"
            ],
            "text/html": [
              "\n",
              "  <div id=\"df-92b47527-6120-435d-93ab-45ce6770742d\" class=\"colab-df-container\">\n",
              "    <div>\n",
              "<style scoped>\n",
              "    .dataframe tbody tr th:only-of-type {\n",
              "        vertical-align: middle;\n",
              "    }\n",
              "\n",
              "    .dataframe tbody tr th {\n",
              "        vertical-align: top;\n",
              "    }\n",
              "\n",
              "    .dataframe thead th {\n",
              "        text-align: right;\n",
              "    }\n",
              "</style>\n",
              "<table border=\"1\" class=\"dataframe\">\n",
              "  <thead>\n",
              "    <tr style=\"text-align: right;\">\n",
              "      <th></th>\n",
              "      <th>Element</th>\n",
              "      <th>Item</th>\n",
              "      <th>Year</th>\n",
              "      <th>Unit</th>\n",
              "      <th>Value</th>\n",
              "    </tr>\n",
              "  </thead>\n",
              "  <tbody>\n",
              "    <tr>\n",
              "      <th>0</th>\n",
              "      <td>Production</td>\n",
              "      <td>Wood fuel, coniferous</td>\n",
              "      <td>1961</td>\n",
              "      <td>m3</td>\n",
              "      <td>4653328.0</td>\n",
              "    </tr>\n",
              "    <tr>\n",
              "      <th>1</th>\n",
              "      <td>Production</td>\n",
              "      <td>Wood fuel, coniferous</td>\n",
              "      <td>1962</td>\n",
              "      <td>m3</td>\n",
              "      <td>4753509.0</td>\n",
              "    </tr>\n",
              "    <tr>\n",
              "      <th>2</th>\n",
              "      <td>Production</td>\n",
              "      <td>Wood fuel, coniferous</td>\n",
              "      <td>1963</td>\n",
              "      <td>m3</td>\n",
              "      <td>4855781.0</td>\n",
              "    </tr>\n",
              "    <tr>\n",
              "      <th>3</th>\n",
              "      <td>Production</td>\n",
              "      <td>Wood fuel, coniferous</td>\n",
              "      <td>1964</td>\n",
              "      <td>m3</td>\n",
              "      <td>4960288.0</td>\n",
              "    </tr>\n",
              "    <tr>\n",
              "      <th>4</th>\n",
              "      <td>Production</td>\n",
              "      <td>Wood fuel, coniferous</td>\n",
              "      <td>1965</td>\n",
              "      <td>m3</td>\n",
              "      <td>5066998.0</td>\n",
              "    </tr>\n",
              "  </tbody>\n",
              "</table>\n",
              "</div>\n",
              "    <div class=\"colab-df-buttons\">\n",
              "\n",
              "  <div class=\"colab-df-container\">\n",
              "    <button class=\"colab-df-convert\" onclick=\"convertToInteractive('df-92b47527-6120-435d-93ab-45ce6770742d')\"\n",
              "            title=\"Convert this dataframe to an interactive table.\"\n",
              "            style=\"display:none;\">\n",
              "\n",
              "  <svg xmlns=\"http://www.w3.org/2000/svg\" height=\"24px\" viewBox=\"0 -960 960 960\">\n",
              "    <path d=\"M120-120v-720h720v720H120Zm60-500h600v-160H180v160Zm220 220h160v-160H400v160Zm0 220h160v-160H400v160ZM180-400h160v-160H180v160Zm440 0h160v-160H620v160ZM180-180h160v-160H180v160Zm440 0h160v-160H620v160Z\"/>\n",
              "  </svg>\n",
              "    </button>\n",
              "\n",
              "  <style>\n",
              "    .colab-df-container {\n",
              "      display:flex;\n",
              "      gap: 12px;\n",
              "    }\n",
              "\n",
              "    .colab-df-convert {\n",
              "      background-color: #E8F0FE;\n",
              "      border: none;\n",
              "      border-radius: 50%;\n",
              "      cursor: pointer;\n",
              "      display: none;\n",
              "      fill: #1967D2;\n",
              "      height: 32px;\n",
              "      padding: 0 0 0 0;\n",
              "      width: 32px;\n",
              "    }\n",
              "\n",
              "    .colab-df-convert:hover {\n",
              "      background-color: #E2EBFA;\n",
              "      box-shadow: 0px 1px 2px rgba(60, 64, 67, 0.3), 0px 1px 3px 1px rgba(60, 64, 67, 0.15);\n",
              "      fill: #174EA6;\n",
              "    }\n",
              "\n",
              "    .colab-df-buttons div {\n",
              "      margin-bottom: 4px;\n",
              "    }\n",
              "\n",
              "    [theme=dark] .colab-df-convert {\n",
              "      background-color: #3B4455;\n",
              "      fill: #D2E3FC;\n",
              "    }\n",
              "\n",
              "    [theme=dark] .colab-df-convert:hover {\n",
              "      background-color: #434B5C;\n",
              "      box-shadow: 0px 1px 3px 1px rgba(0, 0, 0, 0.15);\n",
              "      filter: drop-shadow(0px 1px 2px rgba(0, 0, 0, 0.3));\n",
              "      fill: #FFFFFF;\n",
              "    }\n",
              "  </style>\n",
              "\n",
              "    <script>\n",
              "      const buttonEl =\n",
              "        document.querySelector('#df-92b47527-6120-435d-93ab-45ce6770742d button.colab-df-convert');\n",
              "      buttonEl.style.display =\n",
              "        google.colab.kernel.accessAllowed ? 'block' : 'none';\n",
              "\n",
              "      async function convertToInteractive(key) {\n",
              "        const element = document.querySelector('#df-92b47527-6120-435d-93ab-45ce6770742d');\n",
              "        const dataTable =\n",
              "          await google.colab.kernel.invokeFunction('convertToInteractive',\n",
              "                                                    [key], {});\n",
              "        if (!dataTable) return;\n",
              "\n",
              "        const docLinkHtml = 'Like what you see? Visit the ' +\n",
              "          '<a target=\"_blank\" href=https://colab.research.google.com/notebooks/data_table.ipynb>data table notebook</a>'\n",
              "          + ' to learn more about interactive tables.';\n",
              "        element.innerHTML = '';\n",
              "        dataTable['output_type'] = 'display_data';\n",
              "        await google.colab.output.renderOutput(dataTable, element);\n",
              "        const docLink = document.createElement('div');\n",
              "        docLink.innerHTML = docLinkHtml;\n",
              "        element.appendChild(docLink);\n",
              "      }\n",
              "    </script>\n",
              "  </div>\n",
              "\n",
              "\n",
              "<div id=\"df-4edcce13-5328-485d-8d8d-2c89def9fd2e\">\n",
              "  <button class=\"colab-df-quickchart\" onclick=\"quickchart('df-4edcce13-5328-485d-8d8d-2c89def9fd2e')\"\n",
              "            title=\"Suggest charts.\"\n",
              "            style=\"display:none;\">\n",
              "\n",
              "<svg xmlns=\"http://www.w3.org/2000/svg\" height=\"24px\"viewBox=\"0 0 24 24\"\n",
              "     width=\"24px\">\n",
              "    <g>\n",
              "        <path d=\"M19 3H5c-1.1 0-2 .9-2 2v14c0 1.1.9 2 2 2h14c1.1 0 2-.9 2-2V5c0-1.1-.9-2-2-2zM9 17H7v-7h2v7zm4 0h-2V7h2v10zm4 0h-2v-4h2v4z\"/>\n",
              "    </g>\n",
              "</svg>\n",
              "  </button>\n",
              "\n",
              "<style>\n",
              "  .colab-df-quickchart {\n",
              "    background-color: #E8F0FE;\n",
              "    border: none;\n",
              "    border-radius: 50%;\n",
              "    cursor: pointer;\n",
              "    display: none;\n",
              "    fill: #1967D2;\n",
              "    height: 32px;\n",
              "    padding: 0 0 0 0;\n",
              "    width: 32px;\n",
              "  }\n",
              "\n",
              "  .colab-df-quickchart:hover {\n",
              "    background-color: #E2EBFA;\n",
              "    box-shadow: 0px 1px 2px rgba(60, 64, 67, 0.3), 0px 1px 3px 1px rgba(60, 64, 67, 0.15);\n",
              "    fill: #174EA6;\n",
              "  }\n",
              "\n",
              "  [theme=dark] .colab-df-quickchart {\n",
              "    background-color: #3B4455;\n",
              "    fill: #D2E3FC;\n",
              "  }\n",
              "\n",
              "  [theme=dark] .colab-df-quickchart:hover {\n",
              "    background-color: #434B5C;\n",
              "    box-shadow: 0px 1px 3px 1px rgba(0, 0, 0, 0.15);\n",
              "    filter: drop-shadow(0px 1px 2px rgba(0, 0, 0, 0.3));\n",
              "    fill: #FFFFFF;\n",
              "  }\n",
              "</style>\n",
              "\n",
              "  <script>\n",
              "    async function quickchart(key) {\n",
              "      const charts = await google.colab.kernel.invokeFunction(\n",
              "          'suggestCharts', [key], {});\n",
              "    }\n",
              "    (() => {\n",
              "      let quickchartButtonEl =\n",
              "        document.querySelector('#df-4edcce13-5328-485d-8d8d-2c89def9fd2e button');\n",
              "      quickchartButtonEl.style.display =\n",
              "        google.colab.kernel.accessAllowed ? 'block' : 'none';\n",
              "    })();\n",
              "  </script>\n",
              "</div>\n",
              "    </div>\n",
              "  </div>\n"
            ]
          },
          "metadata": {},
          "execution_count": 189
        }
      ]
    },
    {
      "cell_type": "code",
      "source": [],
      "metadata": {
        "id": "vEDtWMda_c3i"
      },
      "execution_count": 189,
      "outputs": []
    },
    {
      "cell_type": "code",
      "source": [
        "data['Element'].value_counts()"
      ],
      "metadata": {
        "colab": {
          "base_uri": "https://localhost:8080/"
        },
        "id": "8HtkrW779-l-",
        "outputId": "9e0ab1d1-6d4a-44f7-9b3d-eef2ee40e339"
      },
      "execution_count": 190,
      "outputs": [
        {
          "output_type": "execute_result",
          "data": {
            "text/plain": [
              "Production         1915\n",
              "Import Value       1700\n",
              "Import Quantity    1691\n",
              "Export Value       1371\n",
              "Export Quantity    1363\n",
              "Name: Element, dtype: int64"
            ]
          },
          "metadata": {},
          "execution_count": 190
        }
      ]
    },
    {
      "cell_type": "code",
      "source": [
        "value = {'1000 USD':0 ,'t':1 ,'m3' :2}\n",
        "data['Unit']=data['Unit'].map(value)"
      ],
      "metadata": {
        "id": "-VVLxBx3E4JW"
      },
      "execution_count": 191,
      "outputs": []
    },
    {
      "cell_type": "code",
      "source": [
        "# from sklearn.preprocessing import LabelEncoder\n",
        "\n",
        "# # Example categorical data\n",
        "# categories = ['Production','Import Value','Import Quantity','Export Value','Export Quantity']\n",
        "\n",
        "# # Initialize the LabelEncoder\n",
        "# encoder = LabelEncoder()\n",
        "\n",
        "# # Fit and transform the data\n",
        "# encoded_labels = encoder.fit_transform(categories)\n",
        "\n",
        "# # Print the encoded labels\n",
        "# print(encoded_labels)"
      ],
      "metadata": {
        "id": "nCUXCtdpBOuU"
      },
      "execution_count": 192,
      "outputs": []
    },
    {
      "cell_type": "code",
      "source": [
        "from sklearn.preprocessing import StandardScaler, LabelEncoder\n",
        "cropname_label_encoder = LabelEncoder()\n",
        "data[\"Element\"] = cropname_label_encoder.fit_transform(data[\"Element\"])"
      ],
      "metadata": {
        "id": "dDXv4MwfV64D"
      },
      "execution_count": 193,
      "outputs": []
    },
    {
      "cell_type": "code",
      "source": [
        "element_dict = {}\n",
        "for i in range(len(data[\"Element\"].unique())):\n",
        "    element_dict[i] = cropname_label_encoder.inverse_transform([i])[0]\n",
        "print(element_dict)"
      ],
      "metadata": {
        "colab": {
          "base_uri": "https://localhost:8080/"
        },
        "id": "gb9aVJQ7WEP2",
        "outputId": "07c6f61b-3714-4604-9463-e2b92b366991"
      },
      "execution_count": 194,
      "outputs": [
        {
          "output_type": "stream",
          "name": "stdout",
          "text": [
            "{0: 'Export Quantity', 1: 'Export Value', 2: 'Import Quantity', 3: 'Import Value', 4: 'Production'}\n"
          ]
        }
      ]
    },
    {
      "cell_type": "code",
      "source": [
        "from sklearn.preprocessing import StandardScaler, LabelEncoder\n",
        "cropname_label_encoder = LabelEncoder()\n",
        "data[\"Item\"] = cropname_label_encoder.fit_transform(data[\"Item\"])"
      ],
      "metadata": {
        "id": "3zja6LnJGnGR"
      },
      "execution_count": 195,
      "outputs": []
    },
    {
      "cell_type": "code",
      "source": [],
      "metadata": {
        "id": "fRIIM5zxWC-r"
      },
      "execution_count": 195,
      "outputs": []
    },
    {
      "cell_type": "code",
      "source": [
        "cropname_dict = {}\n",
        "for i in range(len(data[\"Item\"].unique())):\n",
        "    cropname_dict[i] = cropname_label_encoder.inverse_transform([i])[0]\n",
        "print(cropname_dict)"
      ],
      "metadata": {
        "colab": {
          "base_uri": "https://localhost:8080/"
        },
        "id": "uBbuR6c5HCNg",
        "outputId": "a2ecb599-fbda-4c39-c43a-a7069d01fead"
      },
      "execution_count": 196,
      "outputs": [
        {
          "output_type": "stream",
          "name": "stdout",
          "text": [
            "{0: 'Cartonboard', 1: 'Case materials', 2: 'Chemical wood pulp', 3: 'Chemical wood pulp, sulphate, bleached', 4: 'Chemical wood pulp, sulphate, unbleached', 5: 'Chemical wood pulp, sulphite', 6: 'Chemical wood pulp, sulphite, bleached', 7: 'Chemical wood pulp, sulphite, unbleached', 8: 'Dissolving wood pulp', 9: 'Fibreboard, compressed (1961-1994)', 10: 'Hardboard', 11: 'Household and sanitary papers', 12: 'Industrial roundwood, coniferous (export/import)', 13: 'Industrial roundwood, non-coniferous non-tropical (export/import)', 14: 'Industrial roundwood, non-coniferous tropical (export/import)', 15: 'MDF/HDF', 16: 'Mechanical and semi-chemical wood pulp', 17: 'Mechanical wood pulp', 18: 'Newsprint', 19: 'OSB', 20: 'Other fibreboard', 21: 'Other industrial roundwood, all species (export/import, 1961-1989)', 22: 'Other industrial roundwood, coniferous (production)', 23: 'Other industrial roundwood, non-coniferous (production)', 24: 'Other paper and paperboard', 25: 'Other paper and paperboard n.e.s. (not elsewhere specified)', 26: 'Other papers mainly for packaging', 27: 'Particle board', 28: 'Particle board and OSB (1961-1994)', 29: 'Plywood', 30: 'Printing and writing papers', 31: 'Printing and writing papers, coated', 32: 'Printing and writing papers, uncoated, mechanical', 33: 'Printing and writing papers, uncoated, wood free', 34: 'Pulp from fibres other than wood', 35: 'Pulpwood and particles, coniferous (production, 1961-1997)', 36: 'Pulpwood and particles, non-coniferous (production, 1961-1997)', 37: 'Pulpwood, round and split, all species (export/import, 1961-1989)', 38: 'Pulpwood, round and split, coniferous (production)', 39: 'Pulpwood, round and split, non-coniferous (production)', 40: 'Recovered fibre pulp', 41: 'Recovered paper', 42: 'Sawlogs and veneer logs, coniferous', 43: 'Sawlogs and veneer logs, non-coniferous', 44: 'Sawnwood, coniferous', 45: 'Sawnwood, non-coniferous all', 46: 'Semi-chemical wood pulp', 47: 'Veneer sheets', 48: 'Wood briquettes and other agglomerates', 49: 'Wood charcoal', 50: 'Wood chips and particles', 51: 'Wood fuel, all species (export/import, 1961-2016)', 52: 'Wood fuel, coniferous', 53: 'Wood fuel, non-coniferous', 54: 'Wood pellets', 55: 'Wood residues', 56: 'Wrapping and packaging paper and paperboard (1961-1997)', 57: 'Wrapping papers'}\n"
          ]
        }
      ]
    },
    {
      "cell_type": "code",
      "source": [
        "X = data.iloc[:,:-1]\n",
        "y = data.iloc[:,-1]"
      ],
      "metadata": {
        "id": "NXB8MvDR-Mt6"
      },
      "execution_count": 197,
      "outputs": []
    },
    {
      "cell_type": "code",
      "source": [
        "X_train, X_test, y_train, y_test = train_test_split(X,y, test_size=0.2, random_state=200)\n",
        "print('Shape of Training set',X_train.shape)\n",
        "print('Shape of testing set',X_test.shape)\n",
        "print('Testing set shape',y_train.shape)\n",
        "print('Testing set shape',y_test.shape)"
      ],
      "metadata": {
        "colab": {
          "base_uri": "https://localhost:8080/"
        },
        "id": "uk4v57ee-mSu",
        "outputId": "650c7ce4-15f8-42f7-df95-6964f6898f15"
      },
      "execution_count": 198,
      "outputs": [
        {
          "output_type": "stream",
          "name": "stdout",
          "text": [
            "Shape of Training set (6432, 4)\n",
            "Shape of testing set (1608, 4)\n",
            "Testing set shape (6432,)\n",
            "Testing set shape (1608,)\n"
          ]
        }
      ]
    },
    {
      "cell_type": "code",
      "source": [
        "data.head()"
      ],
      "metadata": {
        "colab": {
          "base_uri": "https://localhost:8080/",
          "height": 206
        },
        "id": "U2jSUR4Q_JPJ",
        "outputId": "04028281-5db6-4612-f101-9439e343d4f8"
      },
      "execution_count": 200,
      "outputs": [
        {
          "output_type": "execute_result",
          "data": {
            "text/plain": [
              "   Element  Item  Year  Unit      Value\n",
              "0        4    52  1961     2  4653328.0\n",
              "1        4    52  1962     2  4753509.0\n",
              "2        4    52  1963     2  4855781.0\n",
              "3        4    52  1964     2  4960288.0\n",
              "4        4    52  1965     2  5066998.0"
            ],
            "text/html": [
              "\n",
              "  <div id=\"df-d68fe027-6e60-4915-bb79-c85ae2ef6491\" class=\"colab-df-container\">\n",
              "    <div>\n",
              "<style scoped>\n",
              "    .dataframe tbody tr th:only-of-type {\n",
              "        vertical-align: middle;\n",
              "    }\n",
              "\n",
              "    .dataframe tbody tr th {\n",
              "        vertical-align: top;\n",
              "    }\n",
              "\n",
              "    .dataframe thead th {\n",
              "        text-align: right;\n",
              "    }\n",
              "</style>\n",
              "<table border=\"1\" class=\"dataframe\">\n",
              "  <thead>\n",
              "    <tr style=\"text-align: right;\">\n",
              "      <th></th>\n",
              "      <th>Element</th>\n",
              "      <th>Item</th>\n",
              "      <th>Year</th>\n",
              "      <th>Unit</th>\n",
              "      <th>Value</th>\n",
              "    </tr>\n",
              "  </thead>\n",
              "  <tbody>\n",
              "    <tr>\n",
              "      <th>0</th>\n",
              "      <td>4</td>\n",
              "      <td>52</td>\n",
              "      <td>1961</td>\n",
              "      <td>2</td>\n",
              "      <td>4653328.0</td>\n",
              "    </tr>\n",
              "    <tr>\n",
              "      <th>1</th>\n",
              "      <td>4</td>\n",
              "      <td>52</td>\n",
              "      <td>1962</td>\n",
              "      <td>2</td>\n",
              "      <td>4753509.0</td>\n",
              "    </tr>\n",
              "    <tr>\n",
              "      <th>2</th>\n",
              "      <td>4</td>\n",
              "      <td>52</td>\n",
              "      <td>1963</td>\n",
              "      <td>2</td>\n",
              "      <td>4855781.0</td>\n",
              "    </tr>\n",
              "    <tr>\n",
              "      <th>3</th>\n",
              "      <td>4</td>\n",
              "      <td>52</td>\n",
              "      <td>1964</td>\n",
              "      <td>2</td>\n",
              "      <td>4960288.0</td>\n",
              "    </tr>\n",
              "    <tr>\n",
              "      <th>4</th>\n",
              "      <td>4</td>\n",
              "      <td>52</td>\n",
              "      <td>1965</td>\n",
              "      <td>2</td>\n",
              "      <td>5066998.0</td>\n",
              "    </tr>\n",
              "  </tbody>\n",
              "</table>\n",
              "</div>\n",
              "    <div class=\"colab-df-buttons\">\n",
              "\n",
              "  <div class=\"colab-df-container\">\n",
              "    <button class=\"colab-df-convert\" onclick=\"convertToInteractive('df-d68fe027-6e60-4915-bb79-c85ae2ef6491')\"\n",
              "            title=\"Convert this dataframe to an interactive table.\"\n",
              "            style=\"display:none;\">\n",
              "\n",
              "  <svg xmlns=\"http://www.w3.org/2000/svg\" height=\"24px\" viewBox=\"0 -960 960 960\">\n",
              "    <path d=\"M120-120v-720h720v720H120Zm60-500h600v-160H180v160Zm220 220h160v-160H400v160Zm0 220h160v-160H400v160ZM180-400h160v-160H180v160Zm440 0h160v-160H620v160ZM180-180h160v-160H180v160Zm440 0h160v-160H620v160Z\"/>\n",
              "  </svg>\n",
              "    </button>\n",
              "\n",
              "  <style>\n",
              "    .colab-df-container {\n",
              "      display:flex;\n",
              "      gap: 12px;\n",
              "    }\n",
              "\n",
              "    .colab-df-convert {\n",
              "      background-color: #E8F0FE;\n",
              "      border: none;\n",
              "      border-radius: 50%;\n",
              "      cursor: pointer;\n",
              "      display: none;\n",
              "      fill: #1967D2;\n",
              "      height: 32px;\n",
              "      padding: 0 0 0 0;\n",
              "      width: 32px;\n",
              "    }\n",
              "\n",
              "    .colab-df-convert:hover {\n",
              "      background-color: #E2EBFA;\n",
              "      box-shadow: 0px 1px 2px rgba(60, 64, 67, 0.3), 0px 1px 3px 1px rgba(60, 64, 67, 0.15);\n",
              "      fill: #174EA6;\n",
              "    }\n",
              "\n",
              "    .colab-df-buttons div {\n",
              "      margin-bottom: 4px;\n",
              "    }\n",
              "\n",
              "    [theme=dark] .colab-df-convert {\n",
              "      background-color: #3B4455;\n",
              "      fill: #D2E3FC;\n",
              "    }\n",
              "\n",
              "    [theme=dark] .colab-df-convert:hover {\n",
              "      background-color: #434B5C;\n",
              "      box-shadow: 0px 1px 3px 1px rgba(0, 0, 0, 0.15);\n",
              "      filter: drop-shadow(0px 1px 2px rgba(0, 0, 0, 0.3));\n",
              "      fill: #FFFFFF;\n",
              "    }\n",
              "  </style>\n",
              "\n",
              "    <script>\n",
              "      const buttonEl =\n",
              "        document.querySelector('#df-d68fe027-6e60-4915-bb79-c85ae2ef6491 button.colab-df-convert');\n",
              "      buttonEl.style.display =\n",
              "        google.colab.kernel.accessAllowed ? 'block' : 'none';\n",
              "\n",
              "      async function convertToInteractive(key) {\n",
              "        const element = document.querySelector('#df-d68fe027-6e60-4915-bb79-c85ae2ef6491');\n",
              "        const dataTable =\n",
              "          await google.colab.kernel.invokeFunction('convertToInteractive',\n",
              "                                                    [key], {});\n",
              "        if (!dataTable) return;\n",
              "\n",
              "        const docLinkHtml = 'Like what you see? Visit the ' +\n",
              "          '<a target=\"_blank\" href=https://colab.research.google.com/notebooks/data_table.ipynb>data table notebook</a>'\n",
              "          + ' to learn more about interactive tables.';\n",
              "        element.innerHTML = '';\n",
              "        dataTable['output_type'] = 'display_data';\n",
              "        await google.colab.output.renderOutput(dataTable, element);\n",
              "        const docLink = document.createElement('div');\n",
              "        docLink.innerHTML = docLinkHtml;\n",
              "        element.appendChild(docLink);\n",
              "      }\n",
              "    </script>\n",
              "  </div>\n",
              "\n",
              "\n",
              "<div id=\"df-915bd692-7312-4977-ae2a-9c7706aafbf2\">\n",
              "  <button class=\"colab-df-quickchart\" onclick=\"quickchart('df-915bd692-7312-4977-ae2a-9c7706aafbf2')\"\n",
              "            title=\"Suggest charts.\"\n",
              "            style=\"display:none;\">\n",
              "\n",
              "<svg xmlns=\"http://www.w3.org/2000/svg\" height=\"24px\"viewBox=\"0 0 24 24\"\n",
              "     width=\"24px\">\n",
              "    <g>\n",
              "        <path d=\"M19 3H5c-1.1 0-2 .9-2 2v14c0 1.1.9 2 2 2h14c1.1 0 2-.9 2-2V5c0-1.1-.9-2-2-2zM9 17H7v-7h2v7zm4 0h-2V7h2v10zm4 0h-2v-4h2v4z\"/>\n",
              "    </g>\n",
              "</svg>\n",
              "  </button>\n",
              "\n",
              "<style>\n",
              "  .colab-df-quickchart {\n",
              "    background-color: #E8F0FE;\n",
              "    border: none;\n",
              "    border-radius: 50%;\n",
              "    cursor: pointer;\n",
              "    display: none;\n",
              "    fill: #1967D2;\n",
              "    height: 32px;\n",
              "    padding: 0 0 0 0;\n",
              "    width: 32px;\n",
              "  }\n",
              "\n",
              "  .colab-df-quickchart:hover {\n",
              "    background-color: #E2EBFA;\n",
              "    box-shadow: 0px 1px 2px rgba(60, 64, 67, 0.3), 0px 1px 3px 1px rgba(60, 64, 67, 0.15);\n",
              "    fill: #174EA6;\n",
              "  }\n",
              "\n",
              "  [theme=dark] .colab-df-quickchart {\n",
              "    background-color: #3B4455;\n",
              "    fill: #D2E3FC;\n",
              "  }\n",
              "\n",
              "  [theme=dark] .colab-df-quickchart:hover {\n",
              "    background-color: #434B5C;\n",
              "    box-shadow: 0px 1px 3px 1px rgba(0, 0, 0, 0.15);\n",
              "    filter: drop-shadow(0px 1px 2px rgba(0, 0, 0, 0.3));\n",
              "    fill: #FFFFFF;\n",
              "  }\n",
              "</style>\n",
              "\n",
              "  <script>\n",
              "    async function quickchart(key) {\n",
              "      const charts = await google.colab.kernel.invokeFunction(\n",
              "          'suggestCharts', [key], {});\n",
              "    }\n",
              "    (() => {\n",
              "      let quickchartButtonEl =\n",
              "        document.querySelector('#df-915bd692-7312-4977-ae2a-9c7706aafbf2 button');\n",
              "      quickchartButtonEl.style.display =\n",
              "        google.colab.kernel.accessAllowed ? 'block' : 'none';\n",
              "    })();\n",
              "  </script>\n",
              "</div>\n",
              "    </div>\n",
              "  </div>\n"
            ]
          },
          "metadata": {},
          "execution_count": 200
        }
      ]
    },
    {
      "cell_type": "code",
      "source": [
        "from sklearn.ensemble import RandomForestRegressor"
      ],
      "metadata": {
        "id": "X4vMAMoZHwLl"
      },
      "execution_count": 204,
      "outputs": []
    },
    {
      "cell_type": "code",
      "source": [
        "clf1=RandomForestRegressor(n_estimators=100)\n",
        "clf1.fit(X_train,y_train)\n"
      ],
      "metadata": {
        "colab": {
          "base_uri": "https://localhost:8080/",
          "height": 74
        },
        "id": "P8RsN8D5I2Zu",
        "outputId": "a2babef6-8e2e-4b63-db10-04bafab8058b"
      },
      "execution_count": 207,
      "outputs": [
        {
          "output_type": "execute_result",
          "data": {
            "text/plain": [
              "RandomForestRegressor()"
            ],
            "text/html": [
              "<style>#sk-container-id-1 {color: black;background-color: white;}#sk-container-id-1 pre{padding: 0;}#sk-container-id-1 div.sk-toggleable {background-color: white;}#sk-container-id-1 label.sk-toggleable__label {cursor: pointer;display: block;width: 100%;margin-bottom: 0;padding: 0.3em;box-sizing: border-box;text-align: center;}#sk-container-id-1 label.sk-toggleable__label-arrow:before {content: \"▸\";float: left;margin-right: 0.25em;color: #696969;}#sk-container-id-1 label.sk-toggleable__label-arrow:hover:before {color: black;}#sk-container-id-1 div.sk-estimator:hover label.sk-toggleable__label-arrow:before {color: black;}#sk-container-id-1 div.sk-toggleable__content {max-height: 0;max-width: 0;overflow: hidden;text-align: left;background-color: #f0f8ff;}#sk-container-id-1 div.sk-toggleable__content pre {margin: 0.2em;color: black;border-radius: 0.25em;background-color: #f0f8ff;}#sk-container-id-1 input.sk-toggleable__control:checked~div.sk-toggleable__content {max-height: 200px;max-width: 100%;overflow: auto;}#sk-container-id-1 input.sk-toggleable__control:checked~label.sk-toggleable__label-arrow:before {content: \"▾\";}#sk-container-id-1 div.sk-estimator input.sk-toggleable__control:checked~label.sk-toggleable__label {background-color: #d4ebff;}#sk-container-id-1 div.sk-label input.sk-toggleable__control:checked~label.sk-toggleable__label {background-color: #d4ebff;}#sk-container-id-1 input.sk-hidden--visually {border: 0;clip: rect(1px 1px 1px 1px);clip: rect(1px, 1px, 1px, 1px);height: 1px;margin: -1px;overflow: hidden;padding: 0;position: absolute;width: 1px;}#sk-container-id-1 div.sk-estimator {font-family: monospace;background-color: #f0f8ff;border: 1px dotted black;border-radius: 0.25em;box-sizing: border-box;margin-bottom: 0.5em;}#sk-container-id-1 div.sk-estimator:hover {background-color: #d4ebff;}#sk-container-id-1 div.sk-parallel-item::after {content: \"\";width: 100%;border-bottom: 1px solid gray;flex-grow: 1;}#sk-container-id-1 div.sk-label:hover label.sk-toggleable__label {background-color: #d4ebff;}#sk-container-id-1 div.sk-serial::before {content: \"\";position: absolute;border-left: 1px solid gray;box-sizing: border-box;top: 0;bottom: 0;left: 50%;z-index: 0;}#sk-container-id-1 div.sk-serial {display: flex;flex-direction: column;align-items: center;background-color: white;padding-right: 0.2em;padding-left: 0.2em;position: relative;}#sk-container-id-1 div.sk-item {position: relative;z-index: 1;}#sk-container-id-1 div.sk-parallel {display: flex;align-items: stretch;justify-content: center;background-color: white;position: relative;}#sk-container-id-1 div.sk-item::before, #sk-container-id-1 div.sk-parallel-item::before {content: \"\";position: absolute;border-left: 1px solid gray;box-sizing: border-box;top: 0;bottom: 0;left: 50%;z-index: -1;}#sk-container-id-1 div.sk-parallel-item {display: flex;flex-direction: column;z-index: 1;position: relative;background-color: white;}#sk-container-id-1 div.sk-parallel-item:first-child::after {align-self: flex-end;width: 50%;}#sk-container-id-1 div.sk-parallel-item:last-child::after {align-self: flex-start;width: 50%;}#sk-container-id-1 div.sk-parallel-item:only-child::after {width: 0;}#sk-container-id-1 div.sk-dashed-wrapped {border: 1px dashed gray;margin: 0 0.4em 0.5em 0.4em;box-sizing: border-box;padding-bottom: 0.4em;background-color: white;}#sk-container-id-1 div.sk-label label {font-family: monospace;font-weight: bold;display: inline-block;line-height: 1.2em;}#sk-container-id-1 div.sk-label-container {text-align: center;}#sk-container-id-1 div.sk-container {/* jupyter's `normalize.less` sets `[hidden] { display: none; }` but bootstrap.min.css set `[hidden] { display: none !important; }` so we also need the `!important` here to be able to override the default hidden behavior on the sphinx rendered scikit-learn.org. See: https://github.com/scikit-learn/scikit-learn/issues/21755 */display: inline-block !important;position: relative;}#sk-container-id-1 div.sk-text-repr-fallback {display: none;}</style><div id=\"sk-container-id-1\" class=\"sk-top-container\"><div class=\"sk-text-repr-fallback\"><pre>RandomForestRegressor()</pre><b>In a Jupyter environment, please rerun this cell to show the HTML representation or trust the notebook. <br />On GitHub, the HTML representation is unable to render, please try loading this page with nbviewer.org.</b></div><div class=\"sk-container\" hidden><div class=\"sk-item\"><div class=\"sk-estimator sk-toggleable\"><input class=\"sk-toggleable__control sk-hidden--visually\" id=\"sk-estimator-id-1\" type=\"checkbox\" checked><label for=\"sk-estimator-id-1\" class=\"sk-toggleable__label sk-toggleable__label-arrow\">RandomForestRegressor</label><div class=\"sk-toggleable__content\"><pre>RandomForestRegressor()</pre></div></div></div></div></div>"
            ]
          },
          "metadata": {},
          "execution_count": 207
        }
      ]
    },
    {
      "cell_type": "code",
      "source": [
        "pred=clf1.predict(X_test)"
      ],
      "metadata": {
        "id": "MLgnBIc3YlEt"
      },
      "execution_count": 209,
      "outputs": []
    },
    {
      "cell_type": "code",
      "source": [
        "clf1.score(X_test ,y_test)"
      ],
      "metadata": {
        "colab": {
          "base_uri": "https://localhost:8080/"
        },
        "id": "pF5CfnS0YyN2",
        "outputId": "6b4e59f5-d1dc-4566-a4c4-4a1fb014f9c5"
      },
      "execution_count": 210,
      "outputs": [
        {
          "output_type": "execute_result",
          "data": {
            "text/plain": [
              "0.9996719618009356"
            ]
          },
          "metadata": {},
          "execution_count": 210
        }
      ]
    },
    {
      "cell_type": "code",
      "source": [
        "import pickle\n",
        "with open (\"crop_trading.pkl\",'wb') as files:\n",
        "  pickle.dump(clf1,files)"
      ],
      "metadata": {
        "id": "DM5uctduY491"
      },
      "execution_count": 211,
      "outputs": []
    },
    {
      "cell_type": "code",
      "source": [],
      "metadata": {
        "id": "fIixdvh3ZhwO"
      },
      "execution_count": null,
      "outputs": []
    }
  ]
}