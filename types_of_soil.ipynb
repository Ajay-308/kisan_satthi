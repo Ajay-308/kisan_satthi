{
  "nbformat": 4,
  "nbformat_minor": 0,
  "metadata": {
    "colab": {
      "provenance": []
    },
    "kernelspec": {
      "name": "python3",
      "display_name": "Python 3"
    },
    "language_info": {
      "name": "python"
    }
  },
  "cells": [
    {
      "cell_type": "code",
      "execution_count": 1,
      "metadata": {
        "colab": {
          "base_uri": "https://localhost:8080/"
        },
        "id": "oRf-3mkpGPYw",
        "outputId": "5d30ef55-de46-413d-84a4-3a893fa429d7"
      },
      "outputs": [
        {
          "output_type": "stream",
          "name": "stdout",
          "text": [
            "Drive already mounted at /content/drive; to attempt to forcibly remount, call drive.mount(\"/content/drive\", force_remount=True).\n"
          ]
        }
      ],
      "source": [
        "from google.colab import drive\n",
        "drive.mount('/content/drive')"
      ]
    },
    {
      "cell_type": "code",
      "source": [
        "import numpy as np\n",
        "import pandas as pd\n",
        "\n",
        "import os\n",
        "dir_black = os.path.join('/content/drive/MyDrive/Soil types/Black Soil')\n",
        "dir_Cinder = os.path.join('/content/drive/MyDrive/Soil types/Cinder Soil')\n",
        "dir_Laterite = os.path.join('/content/drive/MyDrive/Soil types/Laterite Soil')\n",
        "dir_peat = os.path.join('/content/drive/MyDrive/Soil types/Peat Soil')\n",
        "dir_yellow = os.path.join('/content/drive/MyDrive/Soil types/Yellow Soil')"
      ],
      "metadata": {
        "id": "w7DRBkIxMq-x"
      },
      "execution_count": 6,
      "outputs": []
    },
    {
      "cell_type": "code",
      "source": [
        "import tensorflow as tf\n",
        "from tensorflow import keras"
      ],
      "metadata": {
        "id": "03UXdfxRM1WQ"
      },
      "execution_count": 7,
      "outputs": []
    },
    {
      "cell_type": "code",
      "source": [
        "image_size = 220\n",
        "batch_size = 10\n",
        "\n",
        "\n",
        "target_size = (image_size, image_size)\n",
        "input_shape = (image_size, image_size, 3)"
      ],
      "metadata": {
        "id": "mboklF4ONAUz"
      },
      "execution_count": 8,
      "outputs": []
    },
    {
      "cell_type": "code",
      "source": [
        "from tensorflow.keras.preprocessing.image import ImageDataGenerator\n",
        "\n",
        "train_datagen = ImageDataGenerator(rescale=1/255)\n",
        "\n",
        "\n",
        "train_generator = train_datagen.flow_from_directory(\n",
        "        '/content/drive/MyDrive/Soil types',\n",
        "        target_size=(200, 200),\n",
        "        batch_size = batch_size,\n",
        "        classes = [ 'Black Soil','Cinder Soil', 'Laterite Soil','Peat Soil','Yellow Soil'],\n",
        "       class_mode='categorical')"
      ],
      "metadata": {
        "colab": {
          "base_uri": "https://localhost:8080/"
        },
        "id": "uPTQDBUrNEQ2",
        "outputId": "e97450ad-f41f-4cd9-e473-9b6ee8553c2d"
      },
      "execution_count": 9,
      "outputs": [
        {
          "output_type": "stream",
          "name": "stdout",
          "text": [
            "Found 166 images belonging to 5 classes.\n"
          ]
        }
      ]
    },
    {
      "cell_type": "code",
      "source": [
        "for image_batch, label_batch in train_generator:\n",
        "  break\n",
        "  image_batch.shape, label_batch.shape"
      ],
      "metadata": {
        "id": "8yJgSdg2NH7H"
      },
      "execution_count": 10,
      "outputs": []
    },
    {
      "cell_type": "code",
      "source": [
        "print (train_generator.class_indices)"
      ],
      "metadata": {
        "colab": {
          "base_uri": "https://localhost:8080/"
        },
        "id": "2SK-hmx-Nmyx",
        "outputId": "c0791618-6d10-43ba-fd8b-55141d393308"
      },
      "execution_count": 11,
      "outputs": [
        {
          "output_type": "stream",
          "name": "stdout",
          "text": [
            "{'Black Soil': 0, 'Cinder Soil': 1, 'Laterite Soil': 2, 'Peat Soil': 3, 'Yellow Soil': 4}\n"
          ]
        }
      ]
    },
    {
      "cell_type": "code",
      "source": [
        "model = tf.keras.models.Sequential([\n",
        "\n",
        "    # The first convolution\n",
        "    tf.keras.layers.Conv2D(16, (3,3), activation='relu', input_shape=(220, 220, 3)),\n",
        "    tf.keras.layers.MaxPooling2D(2, 2),\n",
        "    tf.keras.layers.Dropout(0.4),\n",
        "    # The second convolution\n",
        "    tf.keras.layers.Conv2D(32, (3,3), activation='relu'),\n",
        "    tf.keras.layers.MaxPooling2D(2,2),\n",
        "    tf.keras.layers.Dropout(0.4),\n",
        "    # The third convolution\n",
        "    tf.keras.layers.Conv2D(64, (3,3), activation='relu'),\n",
        "    tf.keras.layers.MaxPooling2D(2,2),\n",
        "     tf.keras.layers.Dropout(0.4),\n",
        "    # The fourth convolution\n",
        "    tf.keras.layers.Conv2D(64, (3,3), activation='relu'),\n",
        "    tf.keras.layers.MaxPooling2D(2,2),\n",
        "     tf.keras.layers.Dropout(0.4),\n",
        "    # The fifth convolution\n",
        "    tf.keras.layers.Conv2D(64, (3,3), activation='relu'),\n",
        "    tf.keras.layers.MaxPooling2D(2,2),\n",
        "     tf.keras.layers.Dropout(0.4),\n",
        "\n",
        "    # Flatten the results to feed into a dense layer\n",
        "    tf.keras.layers.Flatten(),\n",
        "\n",
        "    tf.keras.layers.Dropout(0.5),\n",
        "    # 128 neuron in the fully-connected layer\n",
        "    tf.keras.layers.Dense(128, activation='relu'),\n",
        "\n",
        "    tf.keras.layers.Dropout(0.3),\n",
        "    # 5 output neurons for 5 classes with the softmax activation\n",
        "    tf.keras.layers.Dense(5, activation='softmax')\n",
        "])"
      ],
      "metadata": {
        "id": "cuCfqzcTNr4H"
      },
      "execution_count": 34,
      "outputs": []
    },
    {
      "cell_type": "code",
      "source": [
        "model.summary()"
      ],
      "metadata": {
        "colab": {
          "base_uri": "https://localhost:8080/"
        },
        "id": "h7wnFbrvNwu0",
        "outputId": "188daf48-2927-4678-ef16-0f10b6e52e6e"
      },
      "execution_count": 35,
      "outputs": [
        {
          "output_type": "stream",
          "name": "stdout",
          "text": [
            "Model: \"sequential_3\"\n",
            "_________________________________________________________________\n",
            " Layer (type)                Output Shape              Param #   \n",
            "=================================================================\n",
            " conv2d_15 (Conv2D)          (None, 218, 218, 16)      448       \n",
            "                                                                 \n",
            " max_pooling2d_15 (MaxPoolin  (None, 109, 109, 16)     0         \n",
            " g2D)                                                            \n",
            "                                                                 \n",
            " dropout_4 (Dropout)         (None, 109, 109, 16)      0         \n",
            "                                                                 \n",
            " conv2d_16 (Conv2D)          (None, 107, 107, 32)      4640      \n",
            "                                                                 \n",
            " max_pooling2d_16 (MaxPoolin  (None, 53, 53, 32)       0         \n",
            " g2D)                                                            \n",
            "                                                                 \n",
            " dropout_5 (Dropout)         (None, 53, 53, 32)        0         \n",
            "                                                                 \n",
            " conv2d_17 (Conv2D)          (None, 51, 51, 64)        18496     \n",
            "                                                                 \n",
            " max_pooling2d_17 (MaxPoolin  (None, 25, 25, 64)       0         \n",
            " g2D)                                                            \n",
            "                                                                 \n",
            " dropout_6 (Dropout)         (None, 25, 25, 64)        0         \n",
            "                                                                 \n",
            " conv2d_18 (Conv2D)          (None, 23, 23, 64)        36928     \n",
            "                                                                 \n",
            " max_pooling2d_18 (MaxPoolin  (None, 11, 11, 64)       0         \n",
            " g2D)                                                            \n",
            "                                                                 \n",
            " dropout_7 (Dropout)         (None, 11, 11, 64)        0         \n",
            "                                                                 \n",
            " conv2d_19 (Conv2D)          (None, 9, 9, 64)          36928     \n",
            "                                                                 \n",
            " max_pooling2d_19 (MaxPoolin  (None, 4, 4, 64)         0         \n",
            " g2D)                                                            \n",
            "                                                                 \n",
            " dropout_8 (Dropout)         (None, 4, 4, 64)          0         \n",
            "                                                                 \n",
            " flatten_3 (Flatten)         (None, 1024)              0         \n",
            "                                                                 \n",
            " dropout_9 (Dropout)         (None, 1024)              0         \n",
            "                                                                 \n",
            " dense_6 (Dense)             (None, 128)               131200    \n",
            "                                                                 \n",
            " dropout_10 (Dropout)        (None, 128)               0         \n",
            "                                                                 \n",
            " dense_7 (Dense)             (None, 5)                 645       \n",
            "                                                                 \n",
            "=================================================================\n",
            "Total params: 229,285\n",
            "Trainable params: 229,285\n",
            "Non-trainable params: 0\n",
            "_________________________________________________________________\n"
          ]
        }
      ]
    },
    {
      "cell_type": "code",
      "source": [
        "import tensorflow as tf\n",
        "from tensorflow.keras.optimizers import RMSprop\n",
        "\n",
        "# Assuming you have defined your model architecture here\n",
        "\n",
        "model.compile(loss='categorical_crossentropy',\n",
        "              optimizer=RMSprop(learning_rate=0.001),\n",
        "              metrics=['acc'])"
      ],
      "metadata": {
        "id": "pmnEJ-VwOCGa"
      },
      "execution_count": 36,
      "outputs": []
    },
    {
      "cell_type": "code",
      "source": [
        "total_sample = train_generator.n\n",
        "n_epochs = 35"
      ],
      "metadata": {
        "id": "hQKrnU9wOIU0"
      },
      "execution_count": 37,
      "outputs": []
    },
    {
      "cell_type": "code",
      "source": [
        "history = model.fit(\n",
        "        train_generator,\n",
        "        steps_per_epoch = int(total_sample/batch_size),\n",
        "        epochs = n_epochs,\n",
        "        verbose = 1)"
      ],
      "metadata": {
        "colab": {
          "base_uri": "https://localhost:8080/"
        },
        "id": "6C4Tv_TGORsG",
        "outputId": "c12ccc17-f6ea-48bd-ed38-9951d3dc3603"
      },
      "execution_count": 38,
      "outputs": [
        {
          "output_type": "stream",
          "name": "stdout",
          "text": [
            "Epoch 1/35\n",
            "16/16 [==============================] - 9s 422ms/step - loss: 1.7257 - acc: 0.1987\n",
            "Epoch 2/35\n",
            "16/16 [==============================] - 9s 546ms/step - loss: 1.5791 - acc: 0.2564\n",
            "Epoch 3/35\n",
            "16/16 [==============================] - 8s 484ms/step - loss: 1.4287 - acc: 0.3654\n",
            "Epoch 4/35\n",
            "16/16 [==============================] - 8s 483ms/step - loss: 1.3344 - acc: 0.4231\n",
            "Epoch 5/35\n",
            "16/16 [==============================] - 10s 621ms/step - loss: 1.2084 - acc: 0.4231\n",
            "Epoch 6/35\n",
            "16/16 [==============================] - 7s 420ms/step - loss: 1.0902 - acc: 0.4936\n",
            "Epoch 7/35\n",
            "16/16 [==============================] - 9s 566ms/step - loss: 1.0313 - acc: 0.5128\n",
            "Epoch 8/35\n",
            "16/16 [==============================] - 7s 438ms/step - loss: 1.0116 - acc: 0.4679\n",
            "Epoch 9/35\n",
            "16/16 [==============================] - 7s 431ms/step - loss: 0.9941 - acc: 0.5769\n",
            "Epoch 10/35\n",
            "16/16 [==============================] - 12s 769ms/step - loss: 0.9026 - acc: 0.6090\n",
            "Epoch 11/35\n",
            "16/16 [==============================] - 8s 506ms/step - loss: 0.9131 - acc: 0.6218\n",
            "Epoch 12/35\n",
            "16/16 [==============================] - 7s 421ms/step - loss: 0.8202 - acc: 0.6795\n",
            "Epoch 13/35\n",
            "16/16 [==============================] - 9s 571ms/step - loss: 0.7944 - acc: 0.7308\n",
            "Epoch 14/35\n",
            "16/16 [==============================] - 7s 419ms/step - loss: 0.7363 - acc: 0.7308\n",
            "Epoch 15/35\n",
            "16/16 [==============================] - 9s 570ms/step - loss: 0.6258 - acc: 0.7821\n",
            "Epoch 16/35\n",
            "16/16 [==============================] - 8s 470ms/step - loss: 0.6630 - acc: 0.7244\n",
            "Epoch 17/35\n",
            "16/16 [==============================] - 7s 417ms/step - loss: 0.5911 - acc: 0.7628\n",
            "Epoch 18/35\n",
            "16/16 [==============================] - 8s 477ms/step - loss: 0.5832 - acc: 0.7564\n",
            "Epoch 19/35\n",
            "16/16 [==============================] - 8s 529ms/step - loss: 0.5834 - acc: 0.7885\n",
            "Epoch 20/35\n",
            "16/16 [==============================] - 7s 436ms/step - loss: 0.4981 - acc: 0.8013\n",
            "Epoch 21/35\n",
            "16/16 [==============================] - 9s 567ms/step - loss: 0.5421 - acc: 0.7949\n",
            "Epoch 22/35\n",
            "16/16 [==============================] - 8s 477ms/step - loss: 0.4815 - acc: 0.8397\n",
            "Epoch 23/35\n",
            "16/16 [==============================] - 7s 431ms/step - loss: 0.5449 - acc: 0.8438\n",
            "Epoch 24/35\n",
            "16/16 [==============================] - 9s 578ms/step - loss: 0.5216 - acc: 0.8188\n",
            "Epoch 25/35\n",
            "16/16 [==============================] - 7s 422ms/step - loss: 0.4214 - acc: 0.8462\n",
            "Epoch 26/35\n",
            "16/16 [==============================] - 7s 430ms/step - loss: 0.5365 - acc: 0.8462\n",
            "Epoch 27/35\n",
            "16/16 [==============================] - 8s 495ms/step - loss: 0.4513 - acc: 0.8462\n",
            "Epoch 28/35\n",
            "16/16 [==============================] - 8s 511ms/step - loss: 0.4502 - acc: 0.8526\n",
            "Epoch 29/35\n",
            "16/16 [==============================] - 8s 453ms/step - loss: 0.5411 - acc: 0.8141\n",
            "Epoch 30/35\n",
            "16/16 [==============================] - 9s 564ms/step - loss: 0.4438 - acc: 0.8269\n",
            "Epoch 31/35\n",
            "16/16 [==============================] - 13s 806ms/step - loss: 0.4929 - acc: 0.8205\n",
            "Epoch 32/35\n",
            "16/16 [==============================] - 9s 546ms/step - loss: 0.5063 - acc: 0.8141\n",
            "Epoch 33/35\n",
            "16/16 [==============================] - 7s 412ms/step - loss: 0.3677 - acc: 0.8782\n",
            "Epoch 34/35\n",
            "16/16 [==============================] - 9s 571ms/step - loss: 0.5264 - acc: 0.8205\n",
            "Epoch 35/35\n",
            "16/16 [==============================] - 8s 505ms/step - loss: 0.4102 - acc: 0.8462\n"
          ]
        }
      ]
    },
    {
      "cell_type": "code",
      "source": [
        "import matplotlib.pyplot as plt"
      ],
      "metadata": {
        "id": "yIjejBp5OSkq"
      },
      "execution_count": 39,
      "outputs": []
    },
    {
      "cell_type": "code",
      "source": [
        "plt.figure(figsize=(7,4))\n",
        "plt.plot([i+1 for i in range(n_epochs)],history.history['acc'],'-o',c='k',lw=2,markersize=9)\n",
        "plt.grid(True)\n",
        "plt.title(\"Training accuracy with epochs\\n\",fontsize=18)\n",
        "plt.xlabel(\"Training epochs\",fontsize=15)\n",
        "plt.ylabel(\"Training accuracy\",fontsize=15)\n",
        "plt.xticks(fontsize=15)\n",
        "plt.yticks(fontsize=15)\n",
        "plt.show()\n"
      ],
      "metadata": {
        "colab": {
          "base_uri": "https://localhost:8080/",
          "height": 455
        },
        "id": "isuk25ZiX8mP",
        "outputId": "945987ae-bed0-4a11-c7f9-9385a567ffe2"
      },
      "execution_count": 40,
      "outputs": [
        {
          "output_type": "display_data",
          "data": {
            "text/plain": [
              "<Figure size 700x400 with 1 Axes>"
            ],
            "image/png": "[encoded data removed]"
          },
          "metadata": {}
        }
      ]
    },
    {
      "cell_type": "code",
      "source": [
        "model.save('my_model.h5')"
      ],
      "metadata": {
        "id": "jXM3Va0tX9wH"
      },
      "execution_count": 41,
      "outputs": []
    },
    {
      "cell_type": "code",
      "source": [
        "model.save(filepath=\"save_model/\")"
      ],
      "metadata": {
        "colab": {
          "base_uri": "https://localhost:8080/"
        },
        "id": "ty4I7ZDUYT_Q",
        "outputId": "717323e1-55fd-4285-dbdf-d68e94045df5"
      },
      "execution_count": 42,
      "outputs": [
        {
          "output_type": "stream",
          "name": "stderr",
          "text": [
            "WARNING:absl:Found untraced functions such as _jit_compiled_convolution_op, _jit_compiled_convolution_op, _jit_compiled_convolution_op, _jit_compiled_convolution_op, _jit_compiled_convolution_op while saving (showing 5 of 6). These functions will not be directly callable after loading.\n"
          ]
        }
      ]
    },
    {
      "cell_type": "code",
      "source": [],
      "metadata": {
        "id": "98FGCjT_YVj2"
      },
      "execution_count": 43,
      "outputs": []
    },
    {
      "cell_type": "code",
      "source": [],
      "metadata": {
        "id": "WbiPkyiVYX08"
      },
      "execution_count": null,
      "outputs": []
    }
  ]
}